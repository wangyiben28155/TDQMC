{
 "cells": [
  {
   "cell_type": "code",
   "execution_count": 2,
   "metadata": {},
   "outputs": [],
   "source": [
    "include(\"Main_module.jl\")\n",
    "using .TDQMC\n",
    "using PyPlot, Distributions, Random"
   ]
  },
  {
   "cell_type": "code",
   "execution_count": 3,
   "metadata": {},
   "outputs": [],
   "source": [
    "P = Parameter{Float64,Int64}()\n",
    "Dy = Dynamics{Float64}();"
   ]
  },
  {
   "cell_type": "code",
   "execution_count": 4,
   "metadata": {},
   "outputs": [
    {
     "data": {
      "text/plain": [
       "1×200 Matrix{Float64}:\n",
       " -0.211749  1.59443  -2.42056  7.37097  …  -5.66342  0.410081  -3.08345"
      ]
     },
     "execution_count": 4,
     "metadata": {},
     "output_type": "execute_result"
    }
   ],
   "source": [
    "Dy.Trajectory"
   ]
  },
  {
   "cell_type": "code",
   "execution_count": 5,
   "metadata": {},
   "outputs": [
    {
     "data": {
      "image/png": "[encoded data removed]",
      "text/plain": [
       "Figure(PyObject <Figure size 640x480 with 1 Axes>)"
      ]
     },
     "metadata": {},
     "output_type": "display_data"
    },
    {
     "name": "stderr",
     "output_type": "stream",
     "text": [
      "┌ Warning: `vendor()` is deprecated, use `BLAS.get_config()` and inspect the output instead\n",
      "│   caller = npyinitialize() at numpy.jl:67\n",
      "└ @ PyCall C:\\Users\\86187\\.julia\\packages\\PyCall\\3fwVL\\src\\numpy.jl:67\n"
     ]
    },
    {
     "data": {
      "text/plain": [
       "(-10.0, 10.0)"
      ]
     },
     "execution_count": 5,
     "metadata": {},
     "output_type": "execute_result"
    }
   ],
   "source": [
    "hist(Dy.Trajectory', 50, density = true);\n",
    "plot(P.sampling, pdf(Normal(0, 3), P.sampling), color = \"red\")\n",
    "grid()\n",
    "xlim(-10, 10)"
   ]
  },
  {
   "cell_type": "code",
   "execution_count": 6,
   "metadata": {},
   "outputs": [
    {
     "name": "stdout",
     "output_type": "stream",
     "text": [
      "[1, 1, 1, 1]\n",
      "[1, 1, 1, 1]\n",
      "[1, 1, 1, 1]\n",
      "[1, 1, 1, 1]\n",
      "[1, 2, 1, 1]\n",
      "[1, 2, 2, 1]\n",
      "[2, 2, 2, 1]\n",
      "[2, 2, 2, 2]\n",
      "[2, 3, 2, 2]\n",
      "[2, 3, 3, 2]\n",
      "[3, 3, 3, 2]\n",
      "[3, 3, 3, 3]\n",
      "[3, 4, 3, 3]\n",
      "[3, 4, 4, 3]\n",
      "[4, 4, 4, 3]\n",
      "[4, 4, 4, 4]\n",
      "[4, 5, 4, 4]\n",
      "[4, 5, 5, 4]\n",
      "[5, 5, 5, 4]\n",
      "[5, 5, 5, 5]\n",
      "[5, 6, 5, 5]\n",
      "[5, 6, 6, 5]\n",
      "[6, 6, 6, 5]\n",
      "[6, 6, 6, 6]\n",
      "[6, 7, 6, 6]\n",
      "[6, 7, 7, 6]\n",
      "[7, 7, 7, 6]\n",
      "[7, 7, 7, 7]\n",
      "[7, 8, 7, 7]\n",
      "[7, 8, 8, 7]\n",
      "[8, 8, 8, 7]\n",
      "[8, 8, 8, 8]\n",
      "[8, 9, 8, 8]\n",
      "[8, 9, 9, 8]\n",
      "[8, 9, 9, 9]\n",
      "[9, 9, 9, 9]\n",
      "[9, 10, 9, 9]\n",
      "[9, 10, 10, 9]\n",
      "[10, 10, 10, 9]\n",
      "[10, 10, 10, 10]\n",
      "[10, 11, 10, 10]\n",
      "[10, 11, 11, 10]\n",
      "[11, 11, 11, 10]\n",
      "[11, 11, 11, 11]\n",
      "[11, 12, 11, 11]\n",
      "[11, 12, 12, 11]\n",
      "[12, 12, 12, 11]\n",
      "[12, 12, 12, 12]\n",
      "[12, 13, 12, 12]\n",
      "[12, 13, 13, 12]\n",
      "[13, 13, 13, 12]\n",
      "[13, 13, 13, 13]\n",
      "[13, 14, 13, 13]\n",
      "[13, 14, 14, 13]\n",
      "[14, 14, 14, 13]\n",
      "[14, 14, 14, 14]\n",
      "[14, 15, 14, 14]\n",
      "[14, 15, 15, 14]\n",
      "[15, 15, 15, 14]\n",
      "[15, 15, 15, 15]\n",
      "[15, 16, 15, 15]\n",
      "[15, 16, 16, 15]\n",
      "[16, 16, 16, 16]\n",
      "[16, 16, 16, 16]\n",
      "[16, 17, 16, 16]\n",
      "[16, 17, 17, 16]\n",
      "[16, 17, 17, 17]\n",
      "[17, 17, 17, 17]\n",
      "[17, 18, 17, 17]\n",
      "[17, 18, 18, 17]\n",
      "[17, 18, 18, 18]\n",
      "[18, 18, 18, 18]\n",
      "[18, 19, 18, 18]\n",
      "[18, 19, 19, 18]\n",
      "[18, 19, 19, 19]\n",
      "[19, 19, 19, 19]\n",
      "[19, 20, 19, 19]\n",
      "[19, 20, 20, 19]\n",
      "[20, 20, 20, 19]\n",
      "[20, 20, 20, 20]\n",
      "[20, 21, 20, 20]\n",
      "[20, 21, 21, 20]\n",
      "[21, 21, 21, 20]\n",
      "[21, 21, 21, 21]\n",
      "[21, 22, 21, 21]\n",
      "[21, 22, 22, 21]\n",
      "[22, 22, 22, 21]\n",
      "[22, 22, 22, 22]\n",
      "[22, 23, 22, 22]\n",
      "[23, 23, 22, 22]\n",
      "[23, 23, 23, 22]\n",
      "[23, 23, 23, 23]\n",
      "[23, 24, 23, 23]\n",
      "[23, 24, 24, 23]\n",
      "[24, 24, 24, 23]\n",
      "[24, 24, 24, 24]\n",
      "[24, 25, 24, 24]\n",
      "[24, 25, 25, 24]\n",
      "[25, 25, 25, 24]\n",
      "[25, 25, 25, 25]\n",
      "[25, 26, 25, 25]\n",
      "[26, 26, 25, 25]\n",
      "[26, 26, 26, 25]\n",
      "[26, 26, 26, 26]\n",
      "[26, 27, 26, 26]\n",
      "[26, 27, 27, 26]\n",
      "[27, 27, 27, 26]\n",
      "[27, 27, 27, 27]\n",
      "[27, 28, 27, 27]\n",
      "[27, 28, 28, 27]\n",
      "[28, 28, 28, 27]\n",
      "[28, 28, 28, 28]\n",
      "[28, 29, 28, 28]\n",
      "[29, 29, 28, 28]\n",
      "[29, 29, 29, 28]\n",
      "[29, 29, 29, 29]\n",
      "[29, 30, 29, 29]\n",
      "[29, 30, 30, 29]\n",
      "[30, 30, 30, 29]\n",
      "[30, 30, 30, 30]\n",
      "[30, 31, 30, 30]\n",
      "[30, 31, 31, 30]\n",
      "[31, 31, 31, 30]\n",
      "[31, 31, 31, 31]\n",
      "[31, 32, 31, 31]\n",
      "[31, 32, 32, 31]\n",
      "[32, 32, 32, 31]\n",
      "[32, 32, 32, 32]\n",
      "[32, 33, 32, 32]\n",
      "[32, 33, 33, 32]\n",
      "[33, 33, 33, 32]\n",
      "[33, 33, 33, 33]\n",
      "[33, 34, 33, 33]\n",
      "[33, 34, 34, 33]\n",
      "[33, 34, 34, 34]\n",
      "[34, 34, 34, 34]\n",
      "[34, 35, 34, 34]\n",
      "[34, 35, 35, 34]\n",
      "[34, 35, 35, 35]\n",
      "[35, 35, 35, 35]\n",
      "[35, 36, 35, 35]\n",
      "[35, 36, 36, 35]\n",
      "[35, 36, 36, 36]\n",
      "[36, 36, 36, 36]\n",
      "[36, 37, 36, 36]\n",
      "[36, 37, 37, 36]\n",
      "[37, 37, 37, 36]\n",
      "[37, 37, 37, 37]\n",
      "[37, 38, 37, 37]\n",
      "[37, 38, 38, 37]\n",
      "[38, 38, 38, 38]\n",
      "[38, 38, 38, 38]\n",
      "[38, 39, 38, 38]\n",
      "[38, 39, 39, 38]\n",
      "[38, 39, 39, 39]\n",
      "[39, 39, 39, 39]\n",
      "[39, 40, 39, 39]\n",
      "[39, 40, 40, 39]\n",
      "[39, 40, 40, 40]\n",
      "[40, 40, 40, 40]\n",
      "[40, 41, 40, 40]\n",
      "[40, 41, 41, 40]\n",
      "[41, 41, 41, 40]\n",
      "[41, 41, 41, 41]\n",
      "[41, 42, 41, 41]\n",
      "[41, 42, 42, 41]\n",
      "[42, 42, 42, 41]\n",
      "[42, 42, 42, 42]\n",
      "[42, 43, 42, 42]\n",
      "[42, 43, 43, 42]\n",
      "[43, 43, 43, 42]\n",
      "[43, 43, 43, 43]\n",
      "[43, 44, 43, 43]\n",
      "[43, 44, 44, 43]\n",
      "[44, 44, 44, 43]\n",
      "[44, 44, 44, 44]\n",
      "[44, 45, 44, 44]\n",
      "[44, 45, 45, 44]\n",
      "[45, 45, 45, 44]\n",
      "[45, 45, 45, 45]\n",
      "[45, 46, 45, 45]\n",
      "[45, 46, 46, 45]\n",
      "[46, 46, 46, 45]\n",
      "[46, 46, 46, 46]\n",
      "[46, 47, 46, 46]\n",
      "[46, 47, 47, 46]\n",
      "[47, 47, 47, 46]\n",
      "[47, 47, 47, 47]\n",
      "[47, 48, 47, 47]\n",
      "[47, 48, 48, 47]\n",
      "[48, 48, 48, 47]\n",
      "[48, 48, 48, 48]\n",
      "[48, 49, 48, 48]\n",
      "[48, 49, 49, 48]\n",
      "[49, 49, 49, 48]\n",
      "[49, 49, 49, 49]\n",
      "[49, 50, 49, 49]\n",
      "[49, 50, 50, 49]\n",
      "[50, 50, 50, 49]\n",
      "[50, 50, 50, 50]\n",
      "Caiculation is over!\n"
     ]
    }
   ],
   "source": [
    "parallel_CTE!(P, Dy) "
   ]
  },
  {
   "cell_type": "code",
   "execution_count": 10,
   "metadata": {},
   "outputs": [],
   "source": [
    "using DataFrames, CSV"
   ]
  },
  {
   "cell_type": "code",
   "execution_count": 13,
   "metadata": {},
   "outputs": [
    {
     "data": {
      "text/plain": [
       "20001-element Vector{Float64}:\n",
       " 1.1110523894453942e-15\n",
       " 1.126714462768829e-15\n",
       " 1.1151255463373956e-15\n",
       " 1.0960310192892259e-15\n",
       " 1.1043909637021962e-15\n",
       " 1.096314727810028e-15\n",
       " 1.0776968646269636e-15\n",
       " 1.1032404449202764e-15\n",
       " 1.0938574723245351e-15\n",
       " 1.0849673934826716e-15\n",
       " 1.0816200942518743e-15\n",
       " 1.0837449096125486e-15\n",
       " 1.0754001676147728e-15\n",
       " ⋮\n",
       " 1.180968988896895e-15\n",
       " 1.1649967443657957e-15\n",
       " 1.148401704064087e-15\n",
       " 1.1493675292280298e-15\n",
       " 1.1646359753265938e-15\n",
       " 1.162362931175561e-15\n",
       " 1.1602418902076246e-15\n",
       " 1.1507581622946283e-15\n",
       " 1.1498347780801389e-15\n",
       " 1.1360058853718269e-15\n",
       " 1.1249116240775495e-15\n",
       " 1.1242458211985764e-15"
      ]
     },
     "execution_count": 13,
     "metadata": {},
     "output_type": "execute_result"
    }
   ],
   "source": [
    "df = CSV.read(\"Ground_Wave_Func.csv\", DataFrame)\n",
    "df.wave = @. real(parse(Complex{Float64}, df.wave))"
   ]
  },
  {
   "cell_type": "code",
   "execution_count": 7,
   "metadata": {},
   "outputs": [
    {
     "data": {
      "image/png": "[encoded data removed]",
      "text/plain": [
       "Figure(PyObject <Figure size 640x480 with 1 Axes>)"
      ]
     },
     "metadata": {},
     "output_type": "display_data"
    },
    {
     "name": "stderr",
     "output_type": "stream",
     "text": [
      "sys:1: UserWarning: Matplotlib is currently using agg, which is a non-GUI backend, so cannot show the figure.\n"
     ]
    }
   ],
   "source": [
    "hist(Dy.Trajectory',50, density = true)\n",
    "plot(P.sampling, abs2.(Dy.Guide_Wave[1]))\n",
    "xlim(-15,15)\n",
    "show()"
   ]
  },
  {
   "cell_type": "code",
   "execution_count": 8,
   "metadata": {},
   "outputs": [
    {
     "data": {
      "text/plain": [
       "-0.18994045577186192"
      ]
     },
     "execution_count": 8,
     "metadata": {},
     "output_type": "execute_result"
    }
   ],
   "source": [
    "sum(Dy.Energy)/length(Dy.Energy)"
   ]
  },
  {
   "cell_type": "code",
   "execution_count": 11,
   "metadata": {},
   "outputs": [
    {
     "data": {
      "text/plain": [
       "20001-element Vector{Float64}:\n",
       " 3.5418372528626053e-206\n",
       " 7.096692188689261e-206\n",
       " 1.0677852905841755e-205\n",
       " 1.4299147621985567e-205\n",
       " 1.7975212876278813e-205\n",
       " 2.1721759308228544e-205\n",
       " 2.5555833919834506e-205\n",
       " 2.949607755258665e-205\n",
       " 3.3562976175636594e-205\n",
       " 3.7779104534814135e-205\n",
       " 4.216936080392378e-205\n",
       " 4.67611911545147e-205\n",
       " 5.158480365001926e-205\n",
       " ⋮\n",
       " 7.325148650710072e-205\n",
       " 6.601269963224331e-205\n",
       " 5.910037267378506e-205\n",
       " 5.247107260221119e-205\n",
       " 4.608522121849883e-205\n",
       " 3.990674800265856e-205\n",
       " 3.3902730735891313e-205\n",
       " 2.8043024893893903e-205\n",
       " 2.229988326915064e-205\n",
       " 1.6647567497707766e-205\n",
       " 1.106195319285009e-205\n",
       " 5.520130285406941e-206"
      ]
     },
     "execution_count": 11,
     "metadata": {},
     "output_type": "execute_result"
    }
   ],
   "source": [
    "wave = DataFrame()\n",
    "wave.x = P.sampling\n",
    "wave.wave_1 = sum(abs, hcat(Dy.Guide_Wave[1, :]...), dims = 2)[:] / size(Dy.Guide_Wave, 2)\n",
    "#CSV.write(\"Ground_Guide_Wave.csv\", wave)"
   ]
  },
  {
   "cell_type": "code",
   "execution_count": 12,
   "metadata": {},
   "outputs": [
    {
     "ename": "LoadError",
     "evalue": "UndefVarError: df not defined",
     "output_type": "error",
     "traceback": [
      "UndefVarError: df not defined",
      "",
      "Stacktrace:",
      " [1] top-level scope",
      "   @ In[12]:2",
      " [2] eval",
      "   @ .\\boot.jl:373 [inlined]",
      " [3] include_string(mapexpr::typeof(REPL.softscope), mod::Module, code::String, filename::String)",
      "   @ Base .\\loading.jl:1196"
     ]
    }
   ],
   "source": [
    "plot(P.sampling, abs.(wave.wave_1), marker=\"*\", label = \"TDQMC Complex Time\")\n",
    "plot(P.sampling, abs.(df.wave), color = \"red\", label = \"TDSE Img Time\")\n",
    "legend()\n",
    "xlim(-10, 10)\n",
    "grid()"
   ]
  },
  {
   "cell_type": "code",
   "execution_count": 11,
   "metadata": {},
   "outputs": [
    {
     "data": {
      "text/plain": [
       "200-element Vector{Union{Float64, ComplexF64}}:\n",
       " 143.84999999999846 - 143.84999999999846im\n",
       " 218.10000000001534 - 218.10000000001534im\n",
       " 145.59999999999886 - 145.59999999999886im\n",
       " 121.89999999999522 - 121.89999999999522im\n",
       " 106.64999999999608 - 106.64999999999608im\n",
       "  182.3500000000072 - 182.3500000000072im\n",
       "  93.19999999999685 - 93.19999999999685im\n",
       " 114.19999999999565 - 114.19999999999565im\n",
       "  111.7499999999958 - 111.7499999999958im\n",
       "  115.0499999999956 - 115.0499999999956im\n",
       "  129.4999999999952 - 129.4999999999952im\n",
       " 216.00000000001486 - 216.00000000001486im\n",
       " 204.40000000001223 - 204.40000000001223im\n",
       "                    ⋮\n",
       "  84.14999999999736 - 84.14999999999736im\n",
       "  118.7499999999954 - 118.7499999999954im\n",
       " 53.899999999999075 - 53.899999999999075im\n",
       "  97.24999999999662 - 97.24999999999662im\n",
       " 102.59999999999631 - 102.59999999999631im\n",
       " 110.84999999999584 - 110.84999999999584im\n",
       "  52.24999999999917 - 52.24999999999917im\n",
       "  69.69999999999818 - 69.69999999999818im\n",
       " 135.49999999999656 - 135.49999999999656im\n",
       " 122.94999999999516 - 122.94999999999516im\n",
       "  144.4499999999986 - 144.4499999999986im\n",
       " 175.15000000000558 - 175.15000000000558im"
      ]
     },
     "execution_count": 11,
     "metadata": {},
     "output_type": "execute_result"
    }
   ],
   "source": [
    "Dy.Time"
   ]
  },
  {
   "cell_type": "code",
   "execution_count": 13,
   "metadata": {},
   "outputs": [
    {
     "data": {
      "text/plain": [
       "1×200 Matrix{Float64}:\n",
       " -0.150393  1.14173  -1.79605  8.11132  …  -6.07555  0.291195  -2.46381"
      ]
     },
     "execution_count": 13,
     "metadata": {},
     "output_type": "execute_result"
    }
   ],
   "source": [
    "Dy.Trajectory"
   ]
  },
  {
   "cell_type": "code",
   "execution_count": 15,
   "metadata": {},
   "outputs": [
    {
     "data": {
      "text/plain": [
       "1×200 Matrix{Vector{ComplexF64}}:\n",
       " [1.31934e-25-1.02577e-24im, 2.63716e-25-2.05127e-24im, 3.95192e-25-3.07627e-24im, 5.26211e-25-4.10048e-24im, 6.56621e-25-5.12367e-24im, 7.86269e-25-6.14556e-24im, 9.15004e-25-7.16591e-24im, 1.04267e-24-8.18445e-24im, 1.16913e-24-9.20093e-24im, 1.29422e-24-1.02151e-23im  …  1.29422e-24-1.02151e-23im, 1.16913e-24-9.20093e-24im, 1.04267e-24-8.18445e-24im, 9.15004e-25-7.16591e-24im, 7.86269e-25-6.14556e-24im, 6.56621e-25-5.12367e-24im, 5.26211e-25-4.10048e-24im, 3.95192e-25-3.07627e-24im, 2.63716e-25-2.05127e-24im, 1.31934e-25-1.02577e-24im]  …  [4.00598e-27-5.43707e-26im, 8.0069e-27-1.08732e-25im, 1.19977e-26-1.63073e-25im, 1.59733e-26-2.17385e-25im, 1.99287e-26-2.71658e-25im, 2.38587e-26-3.25882e-25im, 2.77585e-26-3.80048e-25im, 3.16229e-26-4.34145e-25im, 3.54469e-26-4.88164e-25im, 3.92255e-26-5.42095e-25im  …  3.92255e-26-5.42095e-25im, 3.54469e-26-4.88164e-25im, 3.16229e-26-4.34145e-25im, 2.77585e-26-3.80048e-25im, 2.38587e-26-3.25882e-25im, 1.99287e-26-2.71658e-25im, 1.59733e-26-2.17385e-25im, 1.19977e-26-1.63073e-25im, 8.0069e-27-1.08732e-25im, 4.00598e-27-5.43707e-26im]"
      ]
     },
     "execution_count": 15,
     "metadata": {},
     "output_type": "execute_result"
    }
   ],
   "source": [
    "Dy.Guide_Wave"
   ]
  },
  {
   "cell_type": "code",
   "execution_count": 18,
   "metadata": {},
   "outputs": [
    {
     "data": {
      "text/plain": [
       "20001×200 Matrix{ComplexF64}:\n",
       " 1.31934e-25-1.02577e-24im  …  4.00598e-27-5.43707e-26im\n",
       " 2.63716e-25-2.05127e-24im      8.0069e-27-1.08732e-25im\n",
       " 3.95192e-25-3.07627e-24im     1.19977e-26-1.63073e-25im\n",
       " 5.26211e-25-4.10048e-24im     1.59733e-26-2.17385e-25im\n",
       " 6.56621e-25-5.12367e-24im     1.99287e-26-2.71658e-25im\n",
       " 7.86269e-25-6.14556e-24im  …  2.38587e-26-3.25882e-25im\n",
       " 9.15004e-25-7.16591e-24im     2.77585e-26-3.80048e-25im\n",
       " 1.04267e-24-8.18445e-24im     3.16229e-26-4.34145e-25im\n",
       " 1.16913e-24-9.20093e-24im     3.54469e-26-4.88164e-25im\n",
       " 1.29422e-24-1.02151e-23im     3.92255e-26-5.42095e-25im\n",
       "  1.4178e-24-1.12267e-23im  …  4.29538e-26-5.95929e-25im\n",
       " 1.53971e-24-1.22354e-23im     4.66267e-26-6.49656e-25im\n",
       " 1.65981e-24-1.32411e-23im     5.02393e-26-7.03266e-25im\n",
       "            ⋮               ⋱  \n",
       " 1.53971e-24-1.22354e-23im     4.66267e-26-6.49656e-25im\n",
       "  1.4178e-24-1.12267e-23im  …  4.29538e-26-5.95929e-25im\n",
       " 1.29422e-24-1.02151e-23im     3.92255e-26-5.42095e-25im\n",
       " 1.16913e-24-9.20093e-24im     3.54469e-26-4.88164e-25im\n",
       " 1.04267e-24-8.18445e-24im     3.16229e-26-4.34145e-25im\n",
       " 9.15004e-25-7.16591e-24im     2.77585e-26-3.80048e-25im\n",
       " 7.86269e-25-6.14556e-24im  …  2.38587e-26-3.25882e-25im\n",
       " 6.56621e-25-5.12367e-24im     1.99287e-26-2.71658e-25im\n",
       " 5.26211e-25-4.10048e-24im     1.59733e-26-2.17385e-25im\n",
       " 3.95192e-25-3.07627e-24im     1.19977e-26-1.63073e-25im\n",
       " 2.63716e-25-2.05127e-24im      8.0069e-27-1.08732e-25im\n",
       " 1.31934e-25-1.02577e-24im  …  4.00598e-27-5.43707e-26im"
      ]
     },
     "execution_count": 18,
     "metadata": {},
     "output_type": "execute_result"
    }
   ],
   "source": [
    "hcat(Dy.Guide_Wave[1 ,:]...)"
   ]
  },
  {
   "cell_type": "code",
   "execution_count": null,
   "metadata": {},
   "outputs": [],
   "source": []
  }
 ],
 "metadata": {
  "kernelspec": {
   "display_name": "Julia 1.7.0",
   "language": "julia",
   "name": "julia-1.7"
  },
  "language_info": {
   "file_extension": ".jl",
   "mimetype": "application/julia",
   "name": "julia",
   "version": "1.7.0"
  },
  "orig_nbformat": 4
 },
 "nbformat": 4,
 "nbformat_minor": 2
}
