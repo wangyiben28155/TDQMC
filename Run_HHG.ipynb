{
 "cells": [
  {
   "cell_type": "code",
   "execution_count": 1,
   "metadata": {},
   "outputs": [],
   "source": [
    "include(\"Main_module.jl\")\n",
    "using .TDQMC"
   ]
  },
  {
   "cell_type": "code",
   "execution_count": 2,
   "metadata": {},
   "outputs": [],
   "source": [
    "using DataFrames, CSV, PyPlot"
   ]
  },
  {
   "cell_type": "code",
   "execution_count": 3,
   "metadata": {},
   "outputs": [
    {
     "data": {
      "text/plain": [
       "2×500 Matrix{Float64}:\n",
       "  0.0328884  0.195333  -0.657671  …   1.48252    1.4       -0.026361\n",
       " -0.587778   1.91626   -0.403192     -0.663044  -0.373878  -1.58648"
      ]
     },
     "execution_count": 3,
     "metadata": {},
     "output_type": "execute_result"
    }
   ],
   "source": [
    "df = CSV.read(\"Ground_Guide_Wave.csv\", DataFrame)\n",
    "tr = Matrix(CSV.read(\"Ground_Trajectory.csv\", DataFrame))"
   ]
  },
  {
   "cell_type": "code",
   "execution_count": 4,
   "metadata": {},
   "outputs": [
    {
     "data": {
      "text/plain": [
       "1000"
      ]
     },
     "execution_count": 4,
     "metadata": {},
     "output_type": "execute_result"
    }
   ],
   "source": [
    "Electron_num = size(tr, 1)\n",
    "Ensemble_num = size(tr, 2)\n",
    "Total_num = Electron_num * Ensemble_num"
   ]
  },
  {
   "cell_type": "code",
   "execution_count": 5,
   "metadata": {},
   "outputs": [
    {
     "data": {
      "text/plain": [
       "3001×2×500 Array{ComplexF64, 3}:\n",
       "[:, :, 1] =\n",
       " 3.04628e-11+0.0im  1.24819e-10+0.0im\n",
       " 6.09291e-11+0.0im  2.49651e-10+0.0im\n",
       " 9.14026e-11+0.0im  3.74509e-10+0.0im\n",
       " 1.21887e-10+0.0im  4.99407e-10+0.0im\n",
       " 1.52385e-10+0.0im  6.24359e-10+0.0im\n",
       " 1.82902e-10+0.0im  7.49378e-10+0.0im\n",
       " 2.13441e-10+0.0im  8.74477e-10+0.0im\n",
       " 2.44005e-10+0.0im  9.99672e-10+0.0im\n",
       " 2.74598e-10+0.0im   1.12498e-9+0.0im\n",
       " 3.05225e-10+0.0im    1.2504e-9+0.0im\n",
       " 3.35889e-10+0.0im   1.37597e-9+0.0im\n",
       " 3.66595e-10+0.0im   1.50169e-9+0.0im\n",
       " 3.97347e-10+0.0im   1.62758e-9+0.0im\n",
       "            ⋮       \n",
       " 3.38167e-10+0.0im   1.49222e-9+0.0im\n",
       " 3.09841e-10+0.0im   1.36715e-9+0.0im\n",
       " 2.81555e-10+0.0im   1.24227e-9+0.0im\n",
       " 2.53302e-10+0.0im   1.11756e-9+0.0im\n",
       " 2.25081e-10+0.0im  9.93006e-10+0.0im\n",
       " 1.96887e-10+0.0im  8.68587e-10+0.0im\n",
       " 1.68717e-10+0.0im  7.44286e-10+0.0im\n",
       " 1.40567e-10+0.0im  6.20086e-10+0.0im\n",
       " 1.12433e-10+0.0im  4.95969e-10+0.0im\n",
       " 8.43133e-11+0.0im  3.71919e-10+0.0im\n",
       " 5.62033e-11+0.0im  2.47918e-10+0.0im\n",
       "    2.81e-11+0.0im  1.23951e-10+0.0im\n",
       "\n",
       "[:, :, 2] =\n",
       " 1.56417e-15+0.0im  4.74522e-11+0.0im\n",
       " 3.12816e-15+0.0im  9.49144e-11+0.0im\n",
       " 4.69179e-15+0.0im  1.42396e-10+0.0im\n",
       " 6.25488e-15+0.0im  1.89908e-10+0.0im\n",
       " 7.81725e-15+0.0im   2.3746e-10+0.0im\n",
       " 9.37873e-15+0.0im  2.85062e-10+0.0im\n",
       " 1.09391e-14+0.0im  3.32724e-10+0.0im\n",
       " 1.24983e-14+0.0im  3.80456e-10+0.0im\n",
       "  1.4056e-14+0.0im  4.28269e-10+0.0im\n",
       " 1.56121e-14+0.0im  4.76173e-10+0.0im\n",
       " 1.71665e-14+0.0im  5.24179e-10+0.0im\n",
       "  1.8719e-14+0.0im  5.72298e-10+0.0im\n",
       " 2.02694e-14+0.0im  6.20541e-10+0.0im\n",
       "            ⋮       \n",
       " 4.21569e-14+0.0im  8.11857e-10+0.0im\n",
       " 3.86441e-14+0.0im  7.44013e-10+0.0im\n",
       " 3.51313e-14+0.0im  6.76219e-10+0.0im\n",
       " 3.16185e-14+0.0im  6.08472e-10+0.0im\n",
       " 2.81057e-14+0.0im  5.40765e-10+0.0im\n",
       " 2.45927e-14+0.0im  4.73093e-10+0.0im\n",
       " 2.10797e-14+0.0im  4.05452e-10+0.0im\n",
       " 1.75666e-14+0.0im  3.37838e-10+0.0im\n",
       " 1.40534e-14+0.0im  2.70245e-10+0.0im\n",
       " 1.05401e-14+0.0im  2.02669e-10+0.0im\n",
       " 7.02676e-15+0.0im  1.35105e-10+0.0im\n",
       " 3.51339e-15+0.0im  6.75506e-11+0.0im\n",
       "\n",
       "[:, :, 3] =\n",
       " 6.30448e-12+0.0im  7.66893e-12+0.0im\n",
       " 1.26091e-11+0.0im  1.53382e-11+0.0im\n",
       " 1.89142e-11+0.0im  2.30082e-11+0.0im\n",
       " 2.52197e-11+0.0im  3.06793e-11+0.0im\n",
       "  3.1526e-11+0.0im  3.83519e-11+0.0im\n",
       " 3.78331e-11+0.0im  4.60262e-11+0.0im\n",
       " 4.41414e-11+0.0im  5.37028e-11+0.0im\n",
       " 5.04511e-11+0.0im   6.1382e-11+0.0im\n",
       " 5.67623e-11+0.0im  6.90643e-11+0.0im\n",
       " 6.30753e-11+0.0im  7.67501e-11+0.0im\n",
       " 6.93903e-11+0.0im  8.44398e-11+0.0im\n",
       " 7.57077e-11+0.0im   9.2134e-11+0.0im\n",
       " 8.20278e-11+0.0im  9.98331e-11+0.0im\n",
       "            ⋮       \n",
       " 2.33039e-11+0.0im   5.3528e-11+0.0im\n",
       " 2.13297e-11+0.0im  4.90155e-11+0.0im\n",
       " 1.93639e-11+0.0im  4.45166e-11+0.0im\n",
       " 1.74058e-11+0.0im    4.003e-11+0.0im\n",
       " 1.54546e-11+0.0im  3.55546e-11+0.0im\n",
       " 1.35094e-11+0.0im  3.10889e-11+0.0im\n",
       " 1.15696e-11+0.0im  2.66318e-11+0.0im\n",
       "  9.6344e-12+0.0im   2.2182e-11+0.0im\n",
       " 7.70296e-12+0.0im  1.77383e-11+0.0im\n",
       " 5.77457e-12+0.0im  1.32995e-11+0.0im\n",
       " 3.84845e-12+0.0im  8.86433e-12+0.0im\n",
       " 1.92385e-12+0.0im  4.43156e-12+0.0im\n",
       "\n",
       ";;; … \n",
       "\n",
       "[:, :, 498] =\n",
       " 1.17894e-11+0.0im   5.2886e-14+0.0im\n",
       " 2.35798e-11+0.0im  1.05783e-13+0.0im\n",
       " 3.53722e-11+0.0im  1.58701e-13+0.0im\n",
       " 4.71677e-11+0.0im  2.11652e-13+0.0im\n",
       " 5.89673e-11+0.0im  2.64645e-13+0.0im\n",
       " 7.07719e-11+0.0im  3.17694e-13+0.0im\n",
       " 8.25828e-11+0.0im  3.70807e-13+0.0im\n",
       " 9.44009e-11+0.0im  4.23996e-13+0.0im\n",
       " 1.06227e-10+0.0im  4.77273e-13+0.0im\n",
       " 1.18064e-10+0.0im  5.30649e-13+0.0im\n",
       "  1.2991e-10+0.0im  5.84135e-13+0.0im\n",
       " 1.41769e-10+0.0im  6.37743e-13+0.0im\n",
       " 1.53641e-10+0.0im  6.91485e-13+0.0im\n",
       "            ⋮       \n",
       " 1.04646e-10+0.0im  1.12154e-12+0.0im\n",
       " 9.58744e-11+0.0im  1.02791e-12+0.0im\n",
       " 8.71162e-11+0.0im  9.34336e-13+0.0im\n",
       " 7.83703e-11+0.0im  8.40797e-13+0.0im\n",
       " 6.96353e-11+0.0im  7.47293e-13+0.0im\n",
       "   6.091e-11+0.0im  6.53819e-13+0.0im\n",
       " 5.21931e-11+0.0im   5.6037e-13+0.0im\n",
       " 4.34834e-11+0.0im  4.66943e-13+0.0im\n",
       " 3.47796e-11+0.0im  3.73534e-13+0.0im\n",
       " 2.60806e-11+0.0im  2.80138e-13+0.0im\n",
       " 1.73851e-11+0.0im  1.86753e-13+0.0im\n",
       " 8.69195e-12+0.0im  9.33748e-14+0.0im\n",
       "\n",
       "[:, :, 499] =\n",
       " 7.61738e-12+0.0im  1.73023e-13+0.0im\n",
       " 1.52351e-11+0.0im  3.46079e-13+0.0im\n",
       " 2.28535e-11+0.0im  5.19204e-13+0.0im\n",
       "  3.0473e-11+0.0im  6.92431e-13+0.0im\n",
       " 3.80938e-11+0.0im  8.65795e-13+0.0im\n",
       " 4.57165e-11+0.0im  1.03933e-12+0.0im\n",
       " 5.33413e-11+0.0im  1.21307e-12+0.0im\n",
       " 6.09687e-11+0.0im  1.38705e-12+0.0im\n",
       "  6.8599e-11+0.0im  1.56131e-12+0.0im\n",
       " 7.62327e-11+0.0im  1.73589e-12+0.0im\n",
       " 8.38703e-11+0.0im  1.91081e-12+0.0im\n",
       " 9.15122e-11+0.0im  2.08611e-12+0.0im\n",
       " 9.91589e-11+0.0im  2.26184e-12+0.0im\n",
       "            ⋮       \n",
       " 4.42319e-11+0.0im  3.58531e-12+0.0im\n",
       " 4.05055e-11+0.0im   3.2859e-12+0.0im\n",
       " 3.67897e-11+0.0im  2.98667e-12+0.0im\n",
       " 3.30836e-11+0.0im  2.68759e-12+0.0im\n",
       " 2.93861e-11+0.0im  2.38864e-12+0.0im\n",
       " 2.56962e-11+0.0im  2.08981e-12+0.0im\n",
       "  2.2013e-11+0.0im  1.79109e-12+0.0im\n",
       " 1.83355e-11+0.0im  1.49244e-12+0.0im\n",
       " 1.46627e-11+0.0im  1.19387e-12+0.0im\n",
       " 1.09937e-11+0.0im  8.95356e-13+0.0im\n",
       " 7.32758e-12+0.0im  5.96881e-13+0.0im\n",
       " 3.66332e-12+0.0im  2.98434e-13+0.0im\n",
       "\n",
       "[:, :, 500] =\n",
       " 1.21575e-13+0.0im  1.19331e-10+0.0im\n",
       " 2.43155e-13+0.0im  2.38673e-10+0.0im\n",
       " 3.64744e-13+0.0im  3.58036e-10+0.0im\n",
       "  4.8635e-13+0.0im   4.7743e-10+0.0im\n",
       " 6.07976e-13+0.0im  5.96867e-10+0.0im\n",
       " 7.29627e-13+0.0im  7.16356e-10+0.0im\n",
       " 8.51311e-13+0.0im  8.35909e-10+0.0im\n",
       " 9.73032e-13+0.0im  9.55537e-10+0.0im\n",
       "  1.0948e-12+0.0im   1.07525e-9+0.0im\n",
       " 1.21661e-12+0.0im   1.19506e-9+0.0im\n",
       " 1.33848e-12+0.0im   1.31499e-9+0.0im\n",
       " 1.46042e-12+0.0im   1.43503e-9+0.0im\n",
       " 1.58242e-12+0.0im   1.55522e-9+0.0im\n",
       "            ⋮       \n",
       " 7.84416e-13+0.0im   1.41792e-9+0.0im\n",
       " 7.18277e-13+0.0im   1.29894e-9+0.0im\n",
       " 6.52341e-13+0.0im   1.18017e-9+0.0im\n",
       " 5.86589e-13+0.0im   1.06161e-9+0.0im\n",
       " 5.21001e-13+0.0im  9.43214e-10+0.0im\n",
       " 4.55559e-13+0.0im  8.24976e-10+0.0im\n",
       " 3.90244e-13+0.0im  7.06874e-10+0.0im\n",
       " 3.25037e-13+0.0im  5.88887e-10+0.0im\n",
       " 2.59922e-13+0.0im  4.70995e-10+0.0im\n",
       " 1.94878e-13+0.0im   3.5318e-10+0.0im\n",
       " 1.29889e-13+0.0im  2.35422e-10+0.0im\n",
       " 6.49354e-14+0.0im  1.17701e-10+0.0im"
      ]
     },
     "execution_count": 5,
     "metadata": {},
     "output_type": "execute_result"
    }
   ],
   "source": [
    "initial_range = df[:, Total_num+1];         #最后一列保存的是空间的离散信息\n",
    "Raw_Array = reshape(complex(Matrix(@. abs(parse(Complex{Float64}, df[:, 1:Total_num])))), (3001, Electron_num, Ensemble_num))         # 500代表的是系综*电子数的数目,因为是单电子所以不需要reshape"
   ]
  },
  {
   "cell_type": "code",
   "execution_count": 8,
   "metadata": {},
   "outputs": [
    {
     "data": {
      "image/png": "[encoded data removed]",
      "text/plain": [
       "Figure(PyObject <Figure size 640x480 with 1 Axes>)"
      ]
     },
     "metadata": {},
     "output_type": "display_data"
    },
    {
     "name": "stderr",
     "output_type": "stream",
     "text": [
      "┌ Warning: `vendor()` is deprecated, use `BLAS.get_config()` and inspect the output instead\n",
      "│   caller = npyinitialize() at numpy.jl:67\n",
      "└ @ PyCall C:\\Users\\86187\\.julia\\packages\\PyCall\\3fwVL\\src\\numpy.jl:67\n"
     ]
    },
    {
     "data": {
      "text/plain": [
       "1-element Vector{PyCall.PyObject}:\n",
       " PyObject <matplotlib.lines.Line2D object at 0x0000000000D41160>"
      ]
     },
     "execution_count": 8,
     "metadata": {},
     "output_type": "execute_result"
    }
   ],
   "source": [
    "plot(initial_range, abs2.(Raw_Array[:,1,1]))"
   ]
  },
  {
   "cell_type": "code",
   "execution_count": 6,
   "metadata": {},
   "outputs": [
    {
     "data": {
      "text/plain": [
       "3001"
      ]
     },
     "execution_count": 6,
     "metadata": {},
     "output_type": "execute_result"
    }
   ],
   "source": [
    "s_range = initial_range[end]\n",
    "s_num = length(initial_range)"
   ]
  },
  {
   "cell_type": "code",
   "execution_count": 7,
   "metadata": {},
   "outputs": [
    {
     "data": {
      "text/plain": [
       "20001"
      ]
     },
     "execution_count": 7,
     "metadata": {},
     "output_type": "execute_result"
    }
   ],
   "source": [
    "l_range = 200.0\n",
    "l_num = extend_num(s_range, l_range, s_num)"
   ]
  },
  {
   "cell_type": "code",
   "execution_count": 8,
   "metadata": {},
   "outputs": [
    {
     "data": {
      "text/plain": [
       "Parameter{Float64, Int64}(2, 500, [1, -1], 20001, 200.0, 0.02, 0.0008, range(-200.0, stop=200.0, length=20001), 0.05, 20)"
      ]
     },
     "execution_count": 8,
     "metadata": {},
     "output_type": "execute_result"
    }
   ],
   "source": [
    "P = Parameter{Float64,Int64}(space_N = l_num, scope = l_range, Δt = 0.05, step_t = 20)"
   ]
  },
  {
   "cell_type": "code",
   "execution_count": 9,
   "metadata": {},
   "outputs": [
    {
     "data": {
      "text/plain": [
       "2×500 Matrix{Vector{ComplexF64}}:\n",
       " [0.0+0.0im, 0.0+0.0im, 0.0+0.0im, 0.0+0.0im, 0.0+0.0im, 0.0+0.0im, 0.0+0.0im, 0.0+0.0im, 0.0+0.0im, 0.0+0.0im  …  0.0+0.0im, 0.0+0.0im, 0.0+0.0im, 0.0+0.0im, 0.0+0.0im, 0.0+0.0im, 0.0+0.0im, 0.0+0.0im, 0.0+0.0im, 0.0+0.0im]  …  [0.0+0.0im, 0.0+0.0im, 0.0+0.0im, 0.0+0.0im, 0.0+0.0im, 0.0+0.0im, 0.0+0.0im, 0.0+0.0im, 0.0+0.0im, 0.0+0.0im  …  0.0+0.0im, 0.0+0.0im, 0.0+0.0im, 0.0+0.0im, 0.0+0.0im, 0.0+0.0im, 0.0+0.0im, 0.0+0.0im, 0.0+0.0im, 0.0+0.0im]\n",
       " [0.0+0.0im, 0.0+0.0im, 0.0+0.0im, 0.0+0.0im, 0.0+0.0im, 0.0+0.0im, 0.0+0.0im, 0.0+0.0im, 0.0+0.0im, 0.0+0.0im  …  0.0+0.0im, 0.0+0.0im, 0.0+0.0im, 0.0+0.0im, 0.0+0.0im, 0.0+0.0im, 0.0+0.0im, 0.0+0.0im, 0.0+0.0im, 0.0+0.0im]     [0.0+0.0im, 0.0+0.0im, 0.0+0.0im, 0.0+0.0im, 0.0+0.0im, 0.0+0.0im, 0.0+0.0im, 0.0+0.0im, 0.0+0.0im, 0.0+0.0im  …  0.0+0.0im, 0.0+0.0im, 0.0+0.0im, 0.0+0.0im, 0.0+0.0im, 0.0+0.0im, 0.0+0.0im, 0.0+0.0im, 0.0+0.0im, 0.0+0.0im]"
      ]
     },
     "execution_count": 9,
     "metadata": {},
     "output_type": "execute_result"
    }
   ],
   "source": [
    "Raw_GuideWave = stitch_Matrix(Raw_Array, l_num)"
   ]
  },
  {
   "cell_type": "code",
   "execution_count": 10,
   "metadata": {},
   "outputs": [
    {
     "data": {
      "text/plain": [
       "20001-element Vector{ComplexF64}:\n",
       " 0.0 + 0.0im\n",
       " 0.0 + 0.0im\n",
       " 0.0 + 0.0im\n",
       " 0.0 + 0.0im\n",
       " 0.0 + 0.0im\n",
       " 0.0 + 0.0im\n",
       " 0.0 + 0.0im\n",
       " 0.0 + 0.0im\n",
       " 0.0 + 0.0im\n",
       " 0.0 + 0.0im\n",
       " 0.0 + 0.0im\n",
       " 0.0 + 0.0im\n",
       " 0.0 + 0.0im\n",
       "     ⋮\n",
       " 0.0 + 0.0im\n",
       " 0.0 + 0.0im\n",
       " 0.0 + 0.0im\n",
       " 0.0 + 0.0im\n",
       " 0.0 + 0.0im\n",
       " 0.0 + 0.0im\n",
       " 0.0 + 0.0im\n",
       " 0.0 + 0.0im\n",
       " 0.0 + 0.0im\n",
       " 0.0 + 0.0im\n",
       " 0.0 + 0.0im\n",
       " 0.0 + 0.0im"
      ]
     },
     "execution_count": 10,
     "metadata": {},
     "output_type": "execute_result"
    }
   ],
   "source": [
    "Raw_GuideWave[1,1]"
   ]
  },
  {
   "cell_type": "code",
   "execution_count": 11,
   "metadata": {},
   "outputs": [
    {
     "name": "stdout",
     "output_type": "stream",
     "text": [
      "  1.116605 seconds (364.06 k allocations: 325.388 MiB, 62.00% gc time, 15.26% compilation time)\n",
      "elapsed time (ns): 1116605100\n",
      "gc time (ns):      692296400\n",
      "bytes allocated:   341194506\n",
      "pool allocs:       362995\n",
      "non-pool GC allocs:59\n",
      "malloc() calls:    1002\n",
      "GC pauses:         1\n"
     ]
    },
    {
     "data": {
      "text/plain": [
       "Dynamics{Float64, Int64}([0.03288844875928036 0.19533294778122012 … 1.400003248802657 -0.026360999224751384; -0.5877776466458721 1.9162616228672578 … -0.3738777157634869 -1.586480950754703], Vector{ComplexF64}[[0.0 + 0.0im, 0.0 + 0.0im, 0.0 + 0.0im, 0.0 + 0.0im, 0.0 + 0.0im, 0.0 + 0.0im, 0.0 + 0.0im, 0.0 + 0.0im, 0.0 + 0.0im, 0.0 + 0.0im  …  0.0 + 0.0im, 0.0 + 0.0im, 0.0 + 0.0im, 0.0 + 0.0im, 0.0 + 0.0im, 0.0 + 0.0im, 0.0 + 0.0im, 0.0 + 0.0im, 0.0 + 0.0im, 0.0 + 0.0im] [0.0 + 0.0im, 0.0 + 0.0im, 0.0 + 0.0im, 0.0 + 0.0im, 0.0 + 0.0im, 0.0 + 0.0im, 0.0 + 0.0im, 0.0 + 0.0im, 0.0 + 0.0im, 0.0 + 0.0im  …  0.0 + 0.0im, 0.0 + 0.0im, 0.0 + 0.0im, 0.0 + 0.0im, 0.0 + 0.0im, 0.0 + 0.0im, 0.0 + 0.0im, 0.0 + 0.0im, 0.0 + 0.0im, 0.0 + 0.0im] … [0.0 + 0.0im, 0.0 + 0.0im, 0.0 + 0.0im, 0.0 + 0.0im, 0.0 + 0.0im, 0.0 + 0.0im, 0.0 + 0.0im, 0.0 + 0.0im, 0.0 + 0.0im, 0.0 + 0.0im  …  0.0 + 0.0im, 0.0 + 0.0im, 0.0 + 0.0im, 0.0 + 0.0im, 0.0 + 0.0im, 0.0 + 0.0im, 0.0 + 0.0im, 0.0 + 0.0im, 0.0 + 0.0im, 0.0 + 0.0im] [0.0 + 0.0im, 0.0 + 0.0im, 0.0 + 0.0im, 0.0 + 0.0im, 0.0 + 0.0im, 0.0 + 0.0im, 0.0 + 0.0im, 0.0 + 0.0im, 0.0 + 0.0im, 0.0 + 0.0im  …  0.0 + 0.0im, 0.0 + 0.0im, 0.0 + 0.0im, 0.0 + 0.0im, 0.0 + 0.0im, 0.0 + 0.0im, 0.0 + 0.0im, 0.0 + 0.0im, 0.0 + 0.0im, 0.0 + 0.0im]; [0.0 + 0.0im, 0.0 + 0.0im, 0.0 + 0.0im, 0.0 + 0.0im, 0.0 + 0.0im, 0.0 + 0.0im, 0.0 + 0.0im, 0.0 + 0.0im, 0.0 + 0.0im, 0.0 + 0.0im  …  0.0 + 0.0im, 0.0 + 0.0im, 0.0 + 0.0im, 0.0 + 0.0im, 0.0 + 0.0im, 0.0 + 0.0im, 0.0 + 0.0im, 0.0 + 0.0im, 0.0 + 0.0im, 0.0 + 0.0im] [0.0 + 0.0im, 0.0 + 0.0im, 0.0 + 0.0im, 0.0 + 0.0im, 0.0 + 0.0im, 0.0 + 0.0im, 0.0 + 0.0im, 0.0 + 0.0im, 0.0 + 0.0im, 0.0 + 0.0im  …  0.0 + 0.0im, 0.0 + 0.0im, 0.0 + 0.0im, 0.0 + 0.0im, 0.0 + 0.0im, 0.0 + 0.0im, 0.0 + 0.0im, 0.0 + 0.0im, 0.0 + 0.0im, 0.0 + 0.0im] … [0.0 + 0.0im, 0.0 + 0.0im, 0.0 + 0.0im, 0.0 + 0.0im, 0.0 + 0.0im, 0.0 + 0.0im, 0.0 + 0.0im, 0.0 + 0.0im, 0.0 + 0.0im, 0.0 + 0.0im  …  0.0 + 0.0im, 0.0 + 0.0im, 0.0 + 0.0im, 0.0 + 0.0im, 0.0 + 0.0im, 0.0 + 0.0im, 0.0 + 0.0im, 0.0 + 0.0im, 0.0 + 0.0im, 0.0 + 0.0im] [0.0 + 0.0im, 0.0 + 0.0im, 0.0 + 0.0im, 0.0 + 0.0im, 0.0 + 0.0im, 0.0 + 0.0im, 0.0 + 0.0im, 0.0 + 0.0im, 0.0 + 0.0im, 0.0 + 0.0im  …  0.0 + 0.0im, 0.0 + 0.0im, 0.0 + 0.0im, 0.0 + 0.0im, 0.0 + 0.0im, 0.0 + 0.0im, 0.0 + 0.0im, 0.0 + 0.0im, 0.0 + 0.0im, 0.0 + 0.0im]], [0.0, 0.0, 0.0, 0.0, 0.0, 0.0, 0.0, 0.0, 0.0, 0.0  …  0.0, 0.0, 0.0, 0.0, 0.0, 0.0, 0.0, 0.0, 0.0, 0.0], Union{Float64, ComplexF64}[0.0, 0.0, 0.0, 0.0, 0.0, 0.0, 0.0, 0.0, 0.0, 0.0  …  0.0, 0.0, 0.0, 0.0, 0.0, 0.0, 0.0, 0.0, 0.0, 0.0], [0.0 0.0 … 0.0 0.0; 0.0 0.0 … 0.0 0.0; … ; 0.0 0.0 … 0.0 0.0; 0.0 0.0 … 0.0 0.0;;; 0.0 0.0 … 0.0 0.0; 0.0 0.0 … 0.0 0.0; … ; 0.0 0.0 … 0.0 0.0; 0.0 0.0 … 0.0 0.0], [[0, 0], [0, 0], [0, 0], [0, 0], [0, 0], [0, 0], [0, 0], [0, 0], [0, 0], [0, 0]  …  [0, 0], [0, 0], [0, 0], [0, 0], [0, 0], [0, 0], [0, 0], [0, 0], [0, 0], [0, 0]], [1, 1, 1, 1, 1, 1, 1, 1, 1, 1  …  1, 1, 1, 1, 1, 1, 1, 1, 1, 1])"
      ]
     },
     "execution_count": 11,
     "metadata": {},
     "output_type": "execute_result"
    }
   ],
   "source": [
    "@timev Dy = Dynamics{Float64,Int64}(Trajectory = deepcopy(tr), Guide_Wave = deepcopy(Raw_GuideWave), Displace = zeros(Float64, (P.step_t + 1, Ensemble_num, Electron_num)),\n",
    "    Time = zeros(typeof(P.Δt), Ensemble_num))"
   ]
  },
  {
   "cell_type": "code",
   "execution_count": 12,
   "metadata": {},
   "outputs": [
    {
     "name": "stdout",
     "output_type": "stream",
     "text": [
      "  0.475002 seconds (99.99% gc time)\n",
      "elapsed time (ns): 475002100\n",
      "gc time (ns):      474965100\n",
      "GC pauses:         1\n",
      "full collections:  1\n"
     ]
    }
   ],
   "source": [
    "@timev begin \n",
    "    df = nothing\n",
    "    Raw_DuideWave = nothing\n",
    "    Raw_Array = nothing\n",
    "    tr = nothing\n",
    "    GC.gc()\n",
    "end"
   ]
  },
  {
   "cell_type": "code",
   "execution_count": 14,
   "metadata": {},
   "outputs": [
    {
     "data": {
      "text/plain": [
       "Dynamics{Float64, Int64}([0.03288844875928036 0.19533294778122012 … 1.400003248802657 -0.026360999224751384; -0.5877776466458721 1.9162616228672578 … -0.3738777157634869 -1.586480950754703], Vector{ComplexF64}[[0.0 + 0.0im, 0.0 + 0.0im, 0.0 + 0.0im, 0.0 + 0.0im, 0.0 + 0.0im, 0.0 + 0.0im, 0.0 + 0.0im, 0.0 + 0.0im, 0.0 + 0.0im, 0.0 + 0.0im  …  0.0 + 0.0im, 0.0 + 0.0im, 0.0 + 0.0im, 0.0 + 0.0im, 0.0 + 0.0im, 0.0 + 0.0im, 0.0 + 0.0im, 0.0 + 0.0im, 0.0 + 0.0im, 0.0 + 0.0im] [0.0 + 0.0im, 0.0 + 0.0im, 0.0 + 0.0im, 0.0 + 0.0im, 0.0 + 0.0im, 0.0 + 0.0im, 0.0 + 0.0im, 0.0 + 0.0im, 0.0 + 0.0im, 0.0 + 0.0im  …  0.0 + 0.0im, 0.0 + 0.0im, 0.0 + 0.0im, 0.0 + 0.0im, 0.0 + 0.0im, 0.0 + 0.0im, 0.0 + 0.0im, 0.0 + 0.0im, 0.0 + 0.0im, 0.0 + 0.0im] … [0.0 + 0.0im, 0.0 + 0.0im, 0.0 + 0.0im, 0.0 + 0.0im, 0.0 + 0.0im, 0.0 + 0.0im, 0.0 + 0.0im, 0.0 + 0.0im, 0.0 + 0.0im, 0.0 + 0.0im  …  0.0 + 0.0im, 0.0 + 0.0im, 0.0 + 0.0im, 0.0 + 0.0im, 0.0 + 0.0im, 0.0 + 0.0im, 0.0 + 0.0im, 0.0 + 0.0im, 0.0 + 0.0im, 0.0 + 0.0im] [0.0 + 0.0im, 0.0 + 0.0im, 0.0 + 0.0im, 0.0 + 0.0im, 0.0 + 0.0im, 0.0 + 0.0im, 0.0 + 0.0im, 0.0 + 0.0im, 0.0 + 0.0im, 0.0 + 0.0im  …  0.0 + 0.0im, 0.0 + 0.0im, 0.0 + 0.0im, 0.0 + 0.0im, 0.0 + 0.0im, 0.0 + 0.0im, 0.0 + 0.0im, 0.0 + 0.0im, 0.0 + 0.0im, 0.0 + 0.0im]; [0.0 + 0.0im, 0.0 + 0.0im, 0.0 + 0.0im, 0.0 + 0.0im, 0.0 + 0.0im, 0.0 + 0.0im, 0.0 + 0.0im, 0.0 + 0.0im, 0.0 + 0.0im, 0.0 + 0.0im  …  0.0 + 0.0im, 0.0 + 0.0im, 0.0 + 0.0im, 0.0 + 0.0im, 0.0 + 0.0im, 0.0 + 0.0im, 0.0 + 0.0im, 0.0 + 0.0im, 0.0 + 0.0im, 0.0 + 0.0im] [0.0 + 0.0im, 0.0 + 0.0im, 0.0 + 0.0im, 0.0 + 0.0im, 0.0 + 0.0im, 0.0 + 0.0im, 0.0 + 0.0im, 0.0 + 0.0im, 0.0 + 0.0im, 0.0 + 0.0im  …  0.0 + 0.0im, 0.0 + 0.0im, 0.0 + 0.0im, 0.0 + 0.0im, 0.0 + 0.0im, 0.0 + 0.0im, 0.0 + 0.0im, 0.0 + 0.0im, 0.0 + 0.0im, 0.0 + 0.0im] … [0.0 + 0.0im, 0.0 + 0.0im, 0.0 + 0.0im, 0.0 + 0.0im, 0.0 + 0.0im, 0.0 + 0.0im, 0.0 + 0.0im, 0.0 + 0.0im, 0.0 + 0.0im, 0.0 + 0.0im  …  0.0 + 0.0im, 0.0 + 0.0im, 0.0 + 0.0im, 0.0 + 0.0im, 0.0 + 0.0im, 0.0 + 0.0im, 0.0 + 0.0im, 0.0 + 0.0im, 0.0 + 0.0im, 0.0 + 0.0im] [0.0 + 0.0im, 0.0 + 0.0im, 0.0 + 0.0im, 0.0 + 0.0im, 0.0 + 0.0im, 0.0 + 0.0im, 0.0 + 0.0im, 0.0 + 0.0im, 0.0 + 0.0im, 0.0 + 0.0im  …  0.0 + 0.0im, 0.0 + 0.0im, 0.0 + 0.0im, 0.0 + 0.0im, 0.0 + 0.0im, 0.0 + 0.0im, 0.0 + 0.0im, 0.0 + 0.0im, 0.0 + 0.0im, 0.0 + 0.0im]], [0.0, 0.0, 0.0, 0.0, 0.0, 0.0, 0.0, 0.0, 0.0, 0.0  …  0.0, 0.0, 0.0, 0.0, 0.0, 0.0, 0.0, 0.0, 0.0, 0.0], Union{Float64, ComplexF64}[0.0, 0.0, 0.0, 0.0, 0.0, 0.0, 0.0, 0.0, 0.0, 0.0  …  0.0, 0.0, 0.0, 0.0, 0.0, 0.0, 0.0, 0.0, 0.0, 0.0], [0.0 0.0 … 0.0 0.0; 0.0 0.0 … 0.0 0.0; … ; 0.0 0.0 … 0.0 0.0; 0.0 0.0 … 0.0 0.0;;; 0.0 0.0 … 0.0 0.0; 0.0 0.0 … 0.0 0.0; … ; 0.0 0.0 … 0.0 0.0; 0.0 0.0 … 0.0 0.0], [[0, 0], [0, 0], [0, 0], [0, 0], [0, 0], [0, 0], [0, 0], [0, 0], [0, 0], [0, 0]  …  [0, 0], [0, 0], [0, 0], [0, 0], [0, 0], [0, 0], [0, 0], [0, 0], [0, 0], [0, 0]], [1, 1, 1, 1, 1, 1, 1, 1, 1, 1  …  1, 1, 1, 1, 1, 1, 1, 1, 1, 1])"
      ]
     },
     "execution_count": 14,
     "metadata": {},
     "output_type": "execute_result"
    }
   ],
   "source": [
    "Dy"
   ]
  },
  {
   "cell_type": "code",
   "execution_count": 16,
   "metadata": {},
   "outputs": [
    {
     "data": {
      "image/png": "[encoded data removed]",
      "text/plain": [
       "Figure(PyObject <Figure size 640x480 with 1 Axes>)"
      ]
     },
     "metadata": {},
     "output_type": "display_data"
    },
    {
     "name": "stderr",
     "output_type": "stream",
     "text": [
      "┌ Warning: `vendor()` is deprecated, use `BLAS.get_config()` and inspect the output instead\n",
      "│   caller = npyinitialize() at numpy.jl:67\n",
      "└ @ PyCall C:\\Users\\86187\\.julia\\packages\\PyCall\\3fwVL\\src\\numpy.jl:67\n"
     ]
    },
    {
     "data": {
      "text/plain": [
       "(-10.0, 10.0)"
      ]
     },
     "execution_count": 16,
     "metadata": {},
     "output_type": "execute_result"
    }
   ],
   "source": [
    "hist(Dy.Trajectory', 50, density = true);\n",
    "plot(P.sampling, abs2.(Dy.Guide_Wave[1]), color = \"red\")      #说明长度能够吻合上\n",
    "grid()\n",
    "xlim(-10, 10)"
   ]
  },
  {
   "cell_type": "code",
   "execution_count": 15,
   "metadata": {},
   "outputs": [
    {
     "data": {
      "text/plain": [
       "Parameter{Float64, Int64}(2, 500, [1, -1], 20001, 200.0, 0.02, 0.0008, range(-200.0, stop=200.0, length=20001), 0.05, 20)"
      ]
     },
     "execution_count": 15,
     "metadata": {},
     "output_type": "execute_result"
    }
   ],
   "source": [
    "P"
   ]
  },
  {
   "cell_type": "code",
   "execution_count": 13,
   "metadata": {},
   "outputs": [
    {
     "name": "stdout",
     "output_type": "stream",
     "text": [
      "[1, 1, 1, 1]\n",
      "[1, 1, 1, 1]\n",
      "[1, 1, 1, 1]\n",
      "[1, 1, 1, 1]\n",
      "[2, 1, 1, 1]\n",
      "[2, 1, 1, 2]\n",
      "[2, 2, 1, 2]\n",
      "[2, 2, 2, 2]\n",
      "[3, 2, 2, 2]\n",
      "[3, 2, 2, 3]\n",
      "[3, 2, 3, 3]\n",
      "[3, 3, 3, 3]\n",
      "[3, 3, 3, 4]\n",
      "[4, 3, 3, 4]\n",
      "[4, 3, 4, 4]\n",
      "[4, 4, 4, 4]\n",
      "[4, 4, 4, 5]\n",
      "[5, 4, 4, 5]\n",
      "[5, 5, 4, 5]\n",
      "[5, 5, 5, 5]\n",
      "[5, 5, 5, 6]\n",
      "[6, 5, 5, 6]\n",
      "[6, 6, 5, 6]\n",
      "[6, 6, 6, 6]\n",
      "[7, 6, 6, 6]\n",
      "[7, 6, 6, 7]\n",
      "[7, 6, 7, 7]\n",
      "[7, 7, 7, 7]\n",
      "[8, 7, 7, 7]\n",
      "[8, 7, 7, 8]\n",
      "[8, 7, 8, 8]\n",
      "[8, 8, 8, 8]\n",
      "[9, 8, 8, 8]\n",
      "[9, 8, 8, 9]\n",
      "[9, 8, 9, 9]\n",
      "[9, 9, 9, 9]\n",
      "[10, 9, 9, 9]\n",
      "[10, 9, 9, 10]\n",
      "[10, 9, 10, 10]\n",
      "[10, 10, 10, 10]\n",
      "[11, 10, 10, 10]\n",
      "[11, 10, 10, 11]\n",
      "[11, 10, 11, 11]\n",
      "[11, 11, 11, 11]\n",
      "[12, 11, 11, 11]\n",
      "[12, 11, 11, 12]\n",
      "[12, 12, 11, 12]\n",
      "[12, 12, 12, 12]\n",
      "[13, 12, 12, 12]\n",
      "[13, 12, 12, 13]\n",
      "[13, 12, 13, 13]\n",
      "[13, 13, 13, 13]\n",
      "[14, 13, 13, 13]\n",
      "[14, 13, 13, 14]\n",
      "[14, 14, 13, 14]\n",
      "[14, 14, 14, 14]\n",
      "[15, 14, 14, 14]\n",
      "[15, 14, 14, 15]\n",
      "[15, 15, 14, 15]\n",
      "[15, 15, 15, 15]\n",
      "[16, 15, 15, 15]\n",
      "[16, 15, 15, 16]\n",
      "[16, 16, 15, 16]\n",
      "[16, 16, 16, 16]\n",
      "[17, 16, 16, 16]\n",
      "[17, 16, 16, 17]\n",
      "[17, 17, 16, 17]\n",
      "[17, 17, 17, 17]\n",
      "[18, 17, 17, 17]\n",
      "[18, 17, 17, 18]\n",
      "[18, 17, 18, 18]\n",
      "[18, 18, 18, 18]\n",
      "[19, 18, 18, 18]\n",
      "[19, 18, 18, 19]\n",
      "[19, 19, 18, 19]\n",
      "[19, 19, 19, 19]\n",
      "[20, 19, 19, 19]\n",
      "[20, 19, 19, 20]\n",
      "[20, 20, 19, 20]\n",
      "[20, 20, 20, 20]\n",
      "[21, 20, 20, 20]\n",
      "[21, 20, 20, 21]\n",
      "[21, 20, 21, 21]\n",
      "[21, 21, 21, 21]\n",
      "[22, 21, 21, 21]\n",
      "[22, 21, 21, 22]\n",
      "[22, 22, 21, 22]\n",
      "[22, 22, 22, 22]\n",
      "[23, 22, 22, 22]\n",
      "[23, 22, 22, 23]\n",
      "[23, 23, 22, 23]\n",
      "[23, 23, 23, 23]\n",
      "[24, 23, 23, 23]\n",
      "[24, 23, 23, 24]\n",
      "[24, 24, 23, 24]\n",
      "[24, 24, 24, 24]\n",
      "[25, 24, 24, 24]\n",
      "[25, 24, 24, 25]\n",
      "[25, 25, 24, 25]\n",
      "[25, 25, 25, 25]\n",
      "[26, 25, 25, 25]\n",
      "[26, 25, 25, 26]\n",
      "[26, 26, 25, 26]\n",
      "[26, 26, 26, 26]\n",
      "[27, 26, 26, 26]\n",
      "[27, 26, 26, 27]\n",
      "[27, 27, 26, 27]\n",
      "[27, 27, 27, 27]\n",
      "[28, 27, 27, 27]\n",
      "[28, 27, 27, 28]\n",
      "[28, 28, 27, 28]\n",
      "[28, 28, 28, 28]\n",
      "[29, 28, 28, 28]\n",
      "[29, 28, 28, 29]\n",
      "[29, 29, 28, 29]\n",
      "[29, 29, 29, 29]\n",
      "[30, 29, 29, 29]\n",
      "[30, 29, 29, 30]\n",
      "[30, 30, 29, 30]\n",
      "[30, 30, 30, 30]\n",
      "[31, 30, 30, 30]\n",
      "[31, 30, 30, 31]\n",
      "[31, 31, 30, 31]\n",
      "[31, 31, 31, 31]\n",
      "[32, 31, 31, 31]\n",
      "[32, 31, 31, 32]\n",
      "[32, 32, 31, 32]\n",
      "[32, 32, 32, 32]\n",
      "[33, 32, 32, 32]\n",
      "[33, 32, 32, 33]\n",
      "[33, 32, 33, 33]\n",
      "[33, 33, 33, 33]\n",
      "[34, 33, 33, 33]\n",
      "[34, 33, 33, 34]\n",
      "[34, 34, 33, 34]\n",
      "[34, 34, 34, 34]\n",
      "[35, 34, 34, 34]\n",
      "[35, 34, 34, 35]\n",
      "[35, 35, 34, 35]\n",
      "[35, 35, 35, 35]\n",
      "[36, 35, 35, 35]\n",
      "[36, 35, 35, 36]\n",
      "[36, 36, 35, 36]\n",
      "[36, 36, 36, 36]\n",
      "[37, 36, 36, 36]\n",
      "[37, 36, 36, 37]\n",
      "[37, 37, 36, 37]\n",
      "[37, 37, 37, 37]\n",
      "[38, 37, 37, 37]\n",
      "[38, 38, 37, 37]\n",
      "[38, 38, 38, 37]\n",
      "[38, 38, 38, 38]\n",
      "[39, 38, 38, 38]\n",
      "[39, 39, 38, 38]\n",
      "[39, 39, 38, 39]\n",
      "[39, 39, 39, 39]\n",
      "[40, 39, 39, 39]\n",
      "[40, 40, 39, 39]\n",
      "[40, 40, 40, 39]\n",
      "[40, 40, 40, 40]\n",
      "[41, 40, 40, 40]\n",
      "[41, 41, 40, 40]\n",
      "[41, 41, 40, 41]\n",
      "[41, 41, 41, 41]\n",
      "[42, 41, 41, 41]\n",
      "[42, 42, 41, 41]\n",
      "[42, 42, 41, 42]\n",
      "[42, 42, 42, 42]\n",
      "[43, 42, 42, 42]\n",
      "[43, 43, 42, 42]\n",
      "[43, 43, 43, 42]\n",
      "[43, 43, 43, 43]\n",
      "[44, 43, 43, 43]\n",
      "[44, 44, 43, 43]\n",
      "[44, 44, 44, 43]\n",
      "[44, 44, 44, 44]\n",
      "[45, 44, 44, 44]\n",
      "[45, 45, 44, 44]\n",
      "[45, 45, 44, 45]\n",
      "[45, 45, 45, 45]\n",
      "[46, 45, 45, 45]\n",
      "[46, 46, 45, 45]\n",
      "[46, 46, 45, 46]\n",
      "[46, 46, 46, 46]\n",
      "[47, 46, 46, 46]\n",
      "[47, 47, 46, 46]\n",
      "[47, 47, 46, 47]\n",
      "[47, 47, 47, 47]\n",
      "[48, 47, 47, 47]\n",
      "[48, 48, 47, 47]\n",
      "[48, 48, 47, 48]\n",
      "[48, 48, 48, 48]\n",
      "[49, 48, 48, 48]\n",
      "[49, 49, 48, 48]\n",
      "[49, 49, 48, 49]\n",
      "[49, 49, 49, 49]\n",
      "[50, 49, 49, 49]\n",
      "[50, 50, 49, 49]\n",
      "[50, 50, 49, 50]\n",
      "[50, 50, 50, 50]\n",
      "[51, 50, 50, 50]\n",
      "[51, 51, 50, 50]\n",
      "[51, 51, 50, 51]\n",
      "[51, 51, 51, 51]\n",
      "[52, 51, 51, 51]\n",
      "[52, 52, 51, 51]\n",
      "[52, 52, 51, 52]\n",
      "[52, 52, 52, 52]\n",
      "[53, 52, 52, 52]\n",
      "[53, 53, 52, 52]\n",
      "[53, 53, 52, 53]\n",
      "[53, 53, 53, 53]\n",
      "[54, 53, 53, 53]\n",
      "[54, 54, 53, 53]\n",
      "[54, 54, 53, 54]\n",
      "[54, 54, 54, 54]\n",
      "[55, 54, 54, 54]\n",
      "[55, 55, 54, 54]\n",
      "[55, 55, 54, 55]\n",
      "[55, 55, 55, 55]\n",
      "[56, 55, 55, 55]\n",
      "[56, 56, 55, 55]\n",
      "[56, 56, 55, 56]\n",
      "[56, 56, 56, 56]\n",
      "[57, 56, 56, 56]\n",
      "[57, 57, 56, 56]\n",
      "[57, 57, 56, 57]\n",
      "[57, 57, 57, 57]\n",
      "[58, 57, 57, 57]\n",
      "[58, 58, 57, 57]\n",
      "[58, 58, 57, 58]\n",
      "[58, 58, 58, 58]\n",
      "[59, 58, 58, 58]\n",
      "[59, 59, 58, 58]\n",
      "[59, 59, 58, 59]\n",
      "[59, 59, 59, 59]\n",
      "[60, 59, 59, 59]\n",
      "[60, 60, 59, 59]\n",
      "[60, 60, 59, 60]\n",
      "[60, 60, 60, 60]\n",
      "[61, 60, 60, 60]\n",
      "[61, 61, 60, 60]\n",
      "[61, 61, 60, 61]\n",
      "[61, 61, 61, 61]\n",
      "[62, 61, 61, 61]\n",
      "[62, 62, 61, 61]\n",
      "[62, 62, 61, 62]\n",
      "[62, 62, 62, 62]\n",
      "[63, 62, 62, 62]\n",
      "[63, 63, 62, 62]\n",
      "[63, 63, 62, 63]\n",
      "[63, 63, 63, 63]\n",
      "[64, 63, 63, 63]\n",
      "[64, 64, 63, 63]\n",
      "[64, 64, 63, 64]\n",
      "[64, 64, 64, 64]\n",
      "[65, 64, 64, 64]\n",
      "[65, 65, 64, 64]\n",
      "[65, 65, 64, 65]\n",
      "[65, 65, 65, 65]\n",
      "[66, 65, 65, 65]\n",
      "[66, 66, 65, 65]\n",
      "[66, 66, 65, 66]\n",
      "[66, 66, 66, 66]\n",
      "[67, 66, 66, 66]\n",
      "[67, 67, 66, 66]\n",
      "[67, 67, 66, 67]\n",
      "[67, 67, 67, 67]\n",
      "[68, 67, 67, 67]\n",
      "[68, 68, 67, 67]\n",
      "[68, 68, 67, 68]\n",
      "[68, 68, 68, 68]\n",
      "[69, 68, 68, 68]\n",
      "[69, 69, 68, 68]\n",
      "[69, 69, 68, 69]\n",
      "[69, 69, 69, 69]\n",
      "[70, 69, 69, 69]\n",
      "[70, 70, 69, 69]\n",
      "[70, 70, 69, 70]\n",
      "[70, 70, 70, 70]\n",
      "[71, 70, 70, 70]\n",
      "[71, 71, 70, 70]\n",
      "[71, 71, 70, 71]\n",
      "[71, 71, 71, 71]\n",
      "[72, 71, 71, 71]\n",
      "[72, 72, 71, 71]\n",
      "[72, 72, 71, 72]\n",
      "[72, 72, 72, 72]\n",
      "[73, 72, 72, 72]\n",
      "[73, 73, 72, 72]\n",
      "[73, 73, 72, 73]\n",
      "[73, 73, 73, 73]\n",
      "[74, 73, 73, 73]\n",
      "[74, 74, 73, 73]\n",
      "[74, 74, 73, 74]\n",
      "[74, 74, 74, 74]\n",
      "[75, 74, 74, 74]\n",
      "[75, 75, 74, 74]\n",
      "[75, 75, 74, 75]\n",
      "[75, 75, 75, 75]\n",
      "[76, 75, 75, 75]\n",
      "[76, 76, 75, 75]\n",
      "[76, 76, 75, 76]\n",
      "[76, 76, 76, 76]\n",
      "[77, 76, 76, 76]\n",
      "[77, 77, 76, 76]\n",
      "[77, 77, 76, 77]\n",
      "[77, 77, 77, 77]\n",
      "[78, 77, 77, 77]\n",
      "[78, 78, 77, 77]\n",
      "[78, 78, 77, 78]\n",
      "[78, 78, 78, 78]\n",
      "[79, 78, 78, 78]\n",
      "[79, 79, 78, 78]\n",
      "[79, 79, 78, 79]\n",
      "[79, 79, 79, 79]\n",
      "[80, 79, 79, 79]\n",
      "[80, 80, 79, 79]\n",
      "[80, 80, 79, 80]\n",
      "[80, 80, 80, 80]\n",
      "[81, 80, 80, 80]\n",
      "[81, 81, 80, 80]\n",
      "[81, 81, 80, 81]\n",
      "[81, 81, 81, 81]\n",
      "[82, 81, 81, 81]\n",
      "[82, 82, 81, 81]\n",
      "[82, 82, 81, 82]\n",
      "[82, 82, 82, 82]\n",
      "[83, 82, 82, 82]\n",
      "[83, 83, 82, 82]\n",
      "[83, 83, 82, 83]\n",
      "[83, 83, 83, 83]\n",
      "[84, 83, 83, 83]\n",
      "[84, 84, 83, 83]\n",
      "[84, 84, 83, 84]\n",
      "[84, 84, 84, 84]\n",
      "[85, 84, 84, 84]\n",
      "[85, 85, 84, 84]\n",
      "[85, 85, 84, 85]\n",
      "[85, 85, 85, 85]\n",
      "[86, 85, 85, 85]\n",
      "[86, 86, 85, 85]\n",
      "[86, 86, 85, 86]\n",
      "[86, 86, 86, 86]\n",
      "[87, 86, 86, 86]\n",
      "[87, 87, 86, 86]\n",
      "[87, 87, 86, 87]\n",
      "[87, 87, 87, 87]\n",
      "[88, 87, 87, 87]\n",
      "[88, 88, 87, 87]\n",
      "[88, 88, 87, 88]\n",
      "[88, 88, 88, 88]\n",
      "[89, 88, 88, 88]\n",
      "[89, 89, 88, 88]\n",
      "[89, 89, 88, 89]\n",
      "[89, 89, 89, 89]\n",
      "[90, 89, 89, 89]\n",
      "[90, 90, 89, 89]\n",
      "[90, 90, 89, 90]\n",
      "[90, 90, 90, 90]\n",
      "[91, 90, 90, 90]\n",
      "[91, 91, 90, 90]\n",
      "[91, 91, 90, 91]\n",
      "[91, 91, 91, 91]\n",
      "[92, 91, 91, 91]\n",
      "[92, 92, 91, 91]\n",
      "[92, 92, 91, 92]\n",
      "[92, 92, 92, 92]\n",
      "[93, 92, 92, 92]\n",
      "[93, 93, 92, 92]\n",
      "[93, 93, 92, 93]\n",
      "[93, 93, 93, 93]\n",
      "[94, 93, 93, 93]\n",
      "[94, 94, 93, 93]\n",
      "[94, 94, 93, 94]\n",
      "[94, 94, 94, 94]\n",
      "[95, 94, 94, 94]\n",
      "[95, 95, 94, 94]\n",
      "[95, 95, 94, 95]\n",
      "[95, 95, 95, 95]\n",
      "[96, 95, 95, 95]\n",
      "[96, 96, 95, 95]\n",
      "[96, 96, 95, 96]\n",
      "[96, 96, 96, 96]\n",
      "[97, 96, 96, 96]\n",
      "[97, 97, 96, 96]\n",
      "[97, 97, 96, 97]\n",
      "[97, 97, 97, 97]\n",
      "[98, 97, 97, 97]\n",
      "[98, 97, 97, 98]\n",
      "[98, 98, 97, 98]\n",
      "[98, 98, 98, 98]\n",
      "[99, 98, 98, 98]\n",
      "[99, 99, 98, 98]\n",
      "[99, 99, 98, 99]\n",
      "[99, 99, 99, 99]\n",
      "[100, 99, 99, 99]\n",
      "[100, 99, 99, 100]\n",
      "[100, 100, 99, 100]\n",
      "[100, 100, 100, 100]\n",
      "[101, 100, 100, 100]\n",
      "[101, 101, 100, 101]\n",
      "[101, 101, 100, 101]\n",
      "[101, 101, 101, 101]\n",
      "[102, 101, 101, 101]\n",
      "[102, 101, 101, 102]\n",
      "[102, 102, 101, 102]\n",
      "[102, 102, 102, 102]\n",
      "[103, 102, 102, 102]\n",
      "[103, 102, 102, 103]\n",
      "[103, 102, 103, 103]\n",
      "[103, 103, 103, 103]\n",
      "[104, 103, 103, 103]\n",
      "[104, 103, 103, 104]\n",
      "[104, 103, 104, 104]\n",
      "[104, 104, 104, 104]\n",
      "[105, 104, 104, 104]\n",
      "[105, 104, 104, 105]\n",
      "[105, 105, 104, 105]\n",
      "[105, 105, 105, 105]\n",
      "[106, 105, 105, 105]\n",
      "[106, 105, 105, 106]\n",
      "[106, 105, 106, 106]\n",
      "[106, 106, 106, 106]\n",
      "[107, 106, 106, 106]\n",
      "[107, 106, 107, 106]\n",
      "[107, 106, 107, 107]\n",
      "[107, 107, 107, 107]\n",
      "[108, 107, 107, 107]\n",
      "[108, 107, 108, 107]\n",
      "[108, 107, 108, 108]\n",
      "[108, 108, 108, 108]\n",
      "[109, 108, 108, 108]\n",
      "[109, 108, 108, 109]\n",
      "[109, 108, 109, 109]\n",
      "[109, 109, 109, 109]\n",
      "[110, 109, 109, 109]\n",
      "[110, 109, 109, 110]\n",
      "[110, 109, 110, 110]\n",
      "[110, 110, 110, 110]\n",
      "[111, 110, 110, 110]\n",
      "[111, 110, 110, 111]\n",
      "[111, 110, 111, 111]\n",
      "[111, 111, 111, 111]\n",
      "[112, 111, 111, 111]\n",
      "[112, 111, 111, 112]\n",
      "[112, 111, 112, 112]\n",
      "[112, 112, 112, 112]\n",
      "[113, 112, 112, 112]\n",
      "[113, 112, 112, 113]\n",
      "[113, 112, 113, 113]\n",
      "[113, 113, 113, 113]\n",
      "[114, 113, 113, 113]\n",
      "[114, 113, 113, 114]\n",
      "[114, 113, 114, 114]\n",
      "[114, 114, 114, 114]\n",
      "[115, 114, 114, 114]\n",
      "[115, 114, 114, 115]\n",
      "[115, 114, 115, 115]\n",
      "[115, 115, 115, 115]\n",
      "[116, 115, 115, 115]\n",
      "[116, 115, 115, 116]\n",
      "[116, 115, 116, 116]\n",
      "[116, 116, 116, 116]\n",
      "[117, 116, 116, 116]\n",
      "[117, 116, 116, 117]\n",
      "[117, 116, 117, 117]\n",
      "[117, 117, 117, 117]\n",
      "[118, 117, 117, 117]\n",
      "[118, 117, 117, 118]\n",
      "[118, 118, 117, 118]\n",
      "[118, 118, 118, 118]\n",
      "[119, 118, 118, 118]\n",
      "[119, 118, 118, 119]\n",
      "[119, 119, 118, 119]\n",
      "[119, 119, 119, 119]\n",
      "[120, 119, 119, 119]\n",
      "[120, 119, 119, 120]\n",
      "[120, 120, 119, 120]\n",
      "[120, 120, 120, 120]\n",
      "[121, 120, 120, 120]\n",
      "[121, 120, 120, 121]\n",
      "[121, 121, 120, 121]\n",
      "[121, 121, 121, 121]\n",
      "[122, 121, 121, 121]\n",
      "[122, 121, 121, 122]\n",
      "[122, 122, 121, 122]\n",
      "[122, 122, 122, 122]\n",
      "[123, 122, 122, 122]\n",
      "[123, 122, 122, 123]\n",
      "[123, 123, 122, 123]\n",
      "[123, 123, 123, 123]\n",
      "[124, 123, 123, 123]\n",
      "[124, 123, 123, 124]\n",
      "[124, 124, 123, 124]\n",
      "[124, 124, 124, 124]\n",
      "[125, 124, 124, 124]\n",
      "[125, 124, 124, 125]\n",
      "[125, 125, 124, 125]\n",
      "[125, 125, 125, 125]\n",
      "Real Time Caiculation is over!\n"
     ]
    }
   ],
   "source": [
    "parallel_Evolution!(P, Dy)"
   ]
  },
  {
   "cell_type": "code",
   "execution_count": 16,
   "metadata": {},
   "outputs": [
    {
     "data": {
      "image/png": "[encoded data removed]",
      "text/plain": [
       "Figure(PyObject <Figure size 640x480 with 1 Axes>)"
      ]
     },
     "metadata": {},
     "output_type": "display_data"
    },
    {
     "data": {
      "text/plain": [
       "PyObject Text(0.5, 1.0, '$Step:10000,\\\\Delta t:0.05,\\\\omega:0.057$')"
      ]
     },
     "execution_count": 16,
     "metadata": {},
     "output_type": "execute_result"
    }
   ],
   "source": [
    "plot(real(P.Δt).* (0:20), Dy.Displace[:, :, 2])\n",
    "#ylim(-200.0, 200.0)\n",
    "xlim(0, P.Δt * 20)\n",
    "xlabel(\"t / a.u\")\n",
    "ylabel(\"x / a.u\")\n",
    "grid()\n",
    "title(L\"Step:10000,\\Delta t:0.05,\\omega:0.057\")"
   ]
  }
 ],
 "metadata": {
  "kernelspec": {
   "display_name": "Julia 1.7.2",
   "language": "julia",
   "name": "julia-1.7"
  },
  "language_info": {
   "file_extension": ".jl",
   "mimetype": "application/julia",
   "name": "julia",
   "version": "1.7.2"
  }
 },
 "nbformat": 4,
 "nbformat_minor": 4
}
