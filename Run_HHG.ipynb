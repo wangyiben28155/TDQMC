{
 "cells": [
  {
   "cell_type": "code",
   "execution_count": 2,
   "metadata": {},
   "outputs": [],
   "source": [
    "include(\"Main_module.jl\")\n",
    "using .TDQMC"
   ]
  },
  {
   "cell_type": "code",
   "execution_count": 3,
   "metadata": {},
   "outputs": [
    {
     "data": {
      "text/plain": [
       "20001"
      ]
     },
     "execution_count": 3,
     "metadata": {},
     "output_type": "execute_result"
    }
   ],
   "source": [
    "l_range = 200.0\n",
    "P₀ = Parameter{Float64,Int64}()                         #不好直接把主模块的变量导出来,所以先用初始化的结构体来计算新的参量再进行赋值\n",
    "l_num = extend_num(P₀.scope, l_range, P₀.space_N)"
   ]
  },
  {
   "cell_type": "code",
   "execution_count": 4,
   "metadata": {},
   "outputs": [],
   "source": [
    "P = Parameter{Float64,Int64}(space_N = l_num, scope = l_range, Δt = 0.02, step_t = 3000)\n",
    "#Dy = Dynamics{Float64}();                      #Displace和Guide_Wave都需要更改"
   ]
  },
  {
   "cell_type": "code",
   "execution_count": 5,
   "metadata": {},
   "outputs": [
    {
     "data": {
      "text/plain": [
       "Parameter{Float64, Int64}(1, 500, [1, -1], 20001, 200.0, 0.02, 0.0008, range(-200.0, stop=200.0, length=20001), 0.05 - 0.05im, 300)"
      ]
     },
     "execution_count": 5,
     "metadata": {},
     "output_type": "execute_result"
    }
   ],
   "source": [
    "P"
   ]
  },
  {
   "cell_type": "code",
   "execution_count": null,
   "metadata": {},
   "outputs": [],
   "source": []
  }
 ],
 "metadata": {
  "kernelspec": {
   "display_name": "Julia 1.7.0",
   "language": "julia",
   "name": "julia-1.7"
  },
  "language_info": {
   "file_extension": ".jl",
   "mimetype": "application/julia",
   "name": "julia",
   "version": "1.7.0"
  },
  "orig_nbformat": 4
 },
 "nbformat": 4,
 "nbformat_minor": 2
}
