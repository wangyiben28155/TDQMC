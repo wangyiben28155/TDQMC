{
 "cells": [
  {
   "cell_type": "code",
   "execution_count": 1,
   "metadata": {},
   "outputs": [
    {
     "data": {
      "text/plain": [
       "Main.Discrete_Func_diff"
      ]
     },
     "execution_count": 1,
     "metadata": {},
     "output_type": "execute_result"
    }
   ],
   "source": [
    "include(\"Numerical_Diff_DiscreteFunc.jl\")"
   ]
  },
  {
   "cell_type": "code",
   "execution_count": 2,
   "metadata": {},
   "outputs": [
    {
     "name": "stdout",
     "output_type": "stream",
     "text": [
      "804 804 804\n"
     ]
    },
    {
     "ename": "LoadError",
     "evalue": "DimensionMismatch(\"\")",
     "output_type": "error",
     "traceback": [
      "DimensionMismatch(\"\")",
      "",
      "Stacktrace:",
      " [1] mul!(C::Vector{Float64}, A::SparseArrays.SparseMatrixCSC{Float64, Int64}, B::Vector{Float64}, α::Bool, β::Bool)",
      "   @ SparseArrays C:\\buildbot\\worker\\package_win64\\build\\usr\\share\\julia\\stdlib\\v1.6\\SparseArrays\\src\\linalg.jl:31",
      " [2] *",
      "   @ C:\\buildbot\\worker\\package_win64\\build\\usr\\share\\julia\\stdlib\\v1.6\\SparseArrays\\src\\linalg.jl:51 [inlined]",
      " [3] Five_Point(x::Vector{Float64}, y::Vector{Float64}; dL::Float64)",
      "   @ Main.Discrete_Func_diff c:\\Users\\86187\\Code\\julia\\TDQMC\\Numerical_Diff_DiscreteFunc.jl:56",
      " [4] top-level scope",
      "   @ In[2]:7",
      " [5] eval",
      "   @ .\\boot.jl:360 [inlined]",
      " [6] include_string(mapexpr::typeof(REPL.softscope), mod::Module, code::String, filename::String)",
      "   @ Base .\\loading.jl:1116"
     ]
    }
   ],
   "source": [
    "using .Discrete_Func_diff\n",
    "using PyPlot\n",
    "\n",
    "x = collect(0:0.01*pi:2*pi)\n",
    "println(length(x))\n",
    "y = sin.(x)\n",
    "T_1 = Three_Point(x, y, dL = 0.01 * pi)\n",
    "T_2 = Five_Point(x, y, dL = 0.01 * pi)\n",
    "plot(x, y, color = \"blue\")\n",
    "plot(T_1..., color = \"red\")\n",
    "plot(T_2..., color = \"green\")"
   ]
  },
  {
   "cell_type": "code",
   "execution_count": null,
   "metadata": {},
   "outputs": [],
   "source": [
    "println(length(x))"
   ]
  }
 ],
 "metadata": {
  "kernelspec": {
   "display_name": "Julia 1.6.3",
   "language": "julia",
   "name": "julia-1.6"
  },
  "language_info": {
   "file_extension": ".jl",
   "mimetype": "application/julia",
   "name": "julia",
   "version": "1.6.3"
  },
  "orig_nbformat": 4
 },
 "nbformat": 4,
 "nbformat_minor": 2
}
