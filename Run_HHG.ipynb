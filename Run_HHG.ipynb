{
 "cells": [
  {
   "cell_type": "code",
   "execution_count": 1,
   "metadata": {},
   "outputs": [],
   "source": [
    "include(\"Main_module.jl\")\n",
    "using .TDQMC"
   ]
  },
  {
   "cell_type": "code",
   "execution_count": 2,
   "metadata": {},
   "outputs": [],
   "source": [
    "using DataFrames, CSV, PyPlot"
   ]
  },
  {
   "cell_type": "code",
   "execution_count": 3,
   "metadata": {},
   "outputs": [
    {
     "data": {
      "text/plain": [
       "1×500 Matrix{Float64}:\n",
       " 0.175251  0.698886  -1.09586  3.41988  …  0.711265  0.973121  -0.797173"
      ]
     },
     "execution_count": 3,
     "metadata": {},
     "output_type": "execute_result"
    }
   ],
   "source": [
    "df = CSV.read(\"Ground_Guide_Wave.csv\", DataFrame)\n",
    "tr = Matrix(CSV.read(\"Ground_Trajectory.csv\", DataFrame))"
   ]
  },
  {
   "cell_type": "code",
   "execution_count": 4,
   "metadata": {},
   "outputs": [
    {
     "data": {
      "text/plain": [
       "500"
      ]
     },
     "execution_count": 4,
     "metadata": {},
     "output_type": "execute_result"
    }
   ],
   "source": [
    "Electron_num = size(tr, 1)\n",
    "Ensemble_num = size(tr, 2)\n",
    "Total_num = Electron_num * Ensemble_num"
   ]
  },
  {
   "cell_type": "code",
   "execution_count": 5,
   "metadata": {},
   "outputs": [
    {
     "data": {
      "text/plain": [
       "3001×1×500 Array{ComplexF64, 3}:\n",
       "[:, :, 1] =\n",
       "  5.326872014448201e-13 + 0.0im\n",
       " 1.0654447260461073e-12 + 0.0im\n",
       " 1.5983430003878883e-12 + 0.0im\n",
       " 2.1314526767294514e-12 + 0.0im\n",
       " 2.6648447551340912e-12 + 0.0im\n",
       "  3.198590705422827e-12 + 0.0im\n",
       "  3.732762588896535e-12 + 0.0im\n",
       " 4.2674331797693416e-12 + 0.0im\n",
       "  4.802676086255375e-12 + 0.0im\n",
       "   5.33856587125001e-12 + 0.0im\n",
       "  5.875178172545803e-12 + 0.0im\n",
       "   6.41258982252208e-12 + 0.0im\n",
       " 6.9508789672458855e-12 + 0.0im\n",
       "                        ⋮\n",
       "  6.412589822522005e-12 + 0.0im\n",
       " 5.8751781725457375e-12 + 0.0im\n",
       "  5.338565871249951e-12 + 0.0im\n",
       "  4.802676086255326e-12 + 0.0im\n",
       " 4.2674331797693044e-12 + 0.0im\n",
       "    3.7327625888965e-12 + 0.0im\n",
       " 3.1985907054227978e-12 + 0.0im\n",
       "  2.664844755134066e-12 + 0.0im\n",
       "   2.13145267672943e-12 + 0.0im\n",
       " 1.5983430003878725e-12 + 0.0im\n",
       " 1.0654447260460966e-12 + 0.0im\n",
       "  5.326872014448145e-13 + 0.0im\n",
       "\n",
       "[:, :, 2] =\n",
       "  5.326872014448201e-13 + 0.0im\n",
       " 1.0654447260461073e-12 + 0.0im\n",
       " 1.5983430003878883e-12 + 0.0im\n",
       " 2.1314526767294514e-12 + 0.0im\n",
       " 2.6648447551340912e-12 + 0.0im\n",
       "  3.198590705422827e-12 + 0.0im\n",
       "  3.732762588896535e-12 + 0.0im\n",
       " 4.2674331797693416e-12 + 0.0im\n",
       "  4.802676086255375e-12 + 0.0im\n",
       "   5.33856587125001e-12 + 0.0im\n",
       "  5.875178172545803e-12 + 0.0im\n",
       "   6.41258982252208e-12 + 0.0im\n",
       " 6.9508789672458855e-12 + 0.0im\n",
       "                        ⋮\n",
       "  6.412589822522005e-12 + 0.0im\n",
       " 5.8751781725457375e-12 + 0.0im\n",
       "  5.338565871249951e-12 + 0.0im\n",
       "  4.802676086255326e-12 + 0.0im\n",
       " 4.2674331797693044e-12 + 0.0im\n",
       "    3.7327625888965e-12 + 0.0im\n",
       " 3.1985907054227978e-12 + 0.0im\n",
       "  2.664844755134066e-12 + 0.0im\n",
       "   2.13145267672943e-12 + 0.0im\n",
       " 1.5983430003878725e-12 + 0.0im\n",
       " 1.0654447260460966e-12 + 0.0im\n",
       "  5.326872014448145e-13 + 0.0im\n",
       "\n",
       "[:, :, 3] =\n",
       "  5.326872014448201e-13 + 0.0im\n",
       " 1.0654447260461073e-12 + 0.0im\n",
       " 1.5983430003878883e-12 + 0.0im\n",
       " 2.1314526767294514e-12 + 0.0im\n",
       " 2.6648447551340912e-12 + 0.0im\n",
       "  3.198590705422827e-12 + 0.0im\n",
       "  3.732762588896535e-12 + 0.0im\n",
       " 4.2674331797693416e-12 + 0.0im\n",
       "  4.802676086255375e-12 + 0.0im\n",
       "   5.33856587125001e-12 + 0.0im\n",
       "  5.875178172545803e-12 + 0.0im\n",
       "   6.41258982252208e-12 + 0.0im\n",
       " 6.9508789672458855e-12 + 0.0im\n",
       "                        ⋮\n",
       "  6.412589822522005e-12 + 0.0im\n",
       " 5.8751781725457375e-12 + 0.0im\n",
       "  5.338565871249951e-12 + 0.0im\n",
       "  4.802676086255326e-12 + 0.0im\n",
       " 4.2674331797693044e-12 + 0.0im\n",
       "    3.7327625888965e-12 + 0.0im\n",
       " 3.1985907054227978e-12 + 0.0im\n",
       "  2.664844755134066e-12 + 0.0im\n",
       "   2.13145267672943e-12 + 0.0im\n",
       " 1.5983430003878725e-12 + 0.0im\n",
       " 1.0654447260460966e-12 + 0.0im\n",
       "  5.326872014448145e-13 + 0.0im\n",
       "\n",
       ";;; … \n",
       "\n",
       "[:, :, 498] =\n",
       "  5.326872014448201e-13 + 0.0im\n",
       " 1.0654447260461073e-12 + 0.0im\n",
       " 1.5983430003878883e-12 + 0.0im\n",
       " 2.1314526767294514e-12 + 0.0im\n",
       " 2.6648447551340912e-12 + 0.0im\n",
       "  3.198590705422827e-12 + 0.0im\n",
       "  3.732762588896535e-12 + 0.0im\n",
       " 4.2674331797693416e-12 + 0.0im\n",
       "  4.802676086255375e-12 + 0.0im\n",
       "   5.33856587125001e-12 + 0.0im\n",
       "  5.875178172545803e-12 + 0.0im\n",
       "   6.41258982252208e-12 + 0.0im\n",
       " 6.9508789672458855e-12 + 0.0im\n",
       "                        ⋮\n",
       "  6.412589822522005e-12 + 0.0im\n",
       " 5.8751781725457375e-12 + 0.0im\n",
       "  5.338565871249951e-12 + 0.0im\n",
       "  4.802676086255326e-12 + 0.0im\n",
       " 4.2674331797693044e-12 + 0.0im\n",
       "    3.7327625888965e-12 + 0.0im\n",
       " 3.1985907054227978e-12 + 0.0im\n",
       "  2.664844755134066e-12 + 0.0im\n",
       "   2.13145267672943e-12 + 0.0im\n",
       " 1.5983430003878725e-12 + 0.0im\n",
       " 1.0654447260460966e-12 + 0.0im\n",
       "  5.326872014448145e-13 + 0.0im\n",
       "\n",
       "[:, :, 499] =\n",
       "  5.326872014448201e-13 + 0.0im\n",
       " 1.0654447260461073e-12 + 0.0im\n",
       " 1.5983430003878883e-12 + 0.0im\n",
       " 2.1314526767294514e-12 + 0.0im\n",
       " 2.6648447551340912e-12 + 0.0im\n",
       "  3.198590705422827e-12 + 0.0im\n",
       "  3.732762588896535e-12 + 0.0im\n",
       " 4.2674331797693416e-12 + 0.0im\n",
       "  4.802676086255375e-12 + 0.0im\n",
       "   5.33856587125001e-12 + 0.0im\n",
       "  5.875178172545803e-12 + 0.0im\n",
       "   6.41258982252208e-12 + 0.0im\n",
       " 6.9508789672458855e-12 + 0.0im\n",
       "                        ⋮\n",
       "  6.412589822522005e-12 + 0.0im\n",
       " 5.8751781725457375e-12 + 0.0im\n",
       "  5.338565871249951e-12 + 0.0im\n",
       "  4.802676086255326e-12 + 0.0im\n",
       " 4.2674331797693044e-12 + 0.0im\n",
       "    3.7327625888965e-12 + 0.0im\n",
       " 3.1985907054227978e-12 + 0.0im\n",
       "  2.664844755134066e-12 + 0.0im\n",
       "   2.13145267672943e-12 + 0.0im\n",
       " 1.5983430003878725e-12 + 0.0im\n",
       " 1.0654447260460966e-12 + 0.0im\n",
       "  5.326872014448145e-13 + 0.0im\n",
       "\n",
       "[:, :, 500] =\n",
       "  5.326872014448201e-13 + 0.0im\n",
       " 1.0654447260461073e-12 + 0.0im\n",
       " 1.5983430003878883e-12 + 0.0im\n",
       " 2.1314526767294514e-12 + 0.0im\n",
       " 2.6648447551340912e-12 + 0.0im\n",
       "  3.198590705422827e-12 + 0.0im\n",
       "  3.732762588896535e-12 + 0.0im\n",
       " 4.2674331797693416e-12 + 0.0im\n",
       "  4.802676086255375e-12 + 0.0im\n",
       "   5.33856587125001e-12 + 0.0im\n",
       "  5.875178172545803e-12 + 0.0im\n",
       "   6.41258982252208e-12 + 0.0im\n",
       " 6.9508789672458855e-12 + 0.0im\n",
       "                        ⋮\n",
       "  6.412589822522005e-12 + 0.0im\n",
       " 5.8751781725457375e-12 + 0.0im\n",
       "  5.338565871249951e-12 + 0.0im\n",
       "  4.802676086255326e-12 + 0.0im\n",
       " 4.2674331797693044e-12 + 0.0im\n",
       "    3.7327625888965e-12 + 0.0im\n",
       " 3.1985907054227978e-12 + 0.0im\n",
       "  2.664844755134066e-12 + 0.0im\n",
       "   2.13145267672943e-12 + 0.0im\n",
       " 1.5983430003878725e-12 + 0.0im\n",
       " 1.0654447260460966e-12 + 0.0im\n",
       "  5.326872014448145e-13 + 0.0im"
      ]
     },
     "execution_count": 5,
     "metadata": {},
     "output_type": "execute_result"
    }
   ],
   "source": [
    "initial_range = df[:, Total_num+1];         #最后一列保存的是空间的离散信息\n",
    "Raw_Array = reshape(complex(Matrix(@. abs(parse(Complex{Float64}, df[:, 1:Total_num])))), (3001, Electron_num, Ensemble_num))         # 500代表的是系综*电子数的数目,因为是单电子所以不需要reshape"
   ]
  },
  {
   "cell_type": "code",
   "execution_count": 6,
   "metadata": {},
   "outputs": [
    {
     "data": {
      "image/png": "[encoded data removed]",
      "text/plain": [
       "Figure(PyObject <Figure size 640x480 with 1 Axes>)"
      ]
     },
     "metadata": {},
     "output_type": "display_data"
    },
    {
     "name": "stderr",
     "output_type": "stream",
     "text": [
      "┌ Warning: `vendor()` is deprecated, use `BLAS.get_config()` and inspect the output instead\n",
      "│   caller = npyinitialize() at numpy.jl:67\n",
      "└ @ PyCall C:\\Users\\86187\\.julia\\packages\\PyCall\\3fwVL\\src\\numpy.jl:67\n"
     ]
    },
    {
     "data": {
      "text/plain": [
       "1-element Vector{PyCall.PyObject}:\n",
       " PyObject <matplotlib.lines.Line2D object at 0x0000000000EE1160>"
      ]
     },
     "execution_count": 6,
     "metadata": {},
     "output_type": "execute_result"
    }
   ],
   "source": [
    "plot(initial_range, abs2.(Raw_Array[:,1,1]))"
   ]
  },
  {
   "cell_type": "code",
   "execution_count": 6,
   "metadata": {},
   "outputs": [
    {
     "data": {
      "text/plain": [
       "3001"
      ]
     },
     "execution_count": 6,
     "metadata": {},
     "output_type": "execute_result"
    }
   ],
   "source": [
    "s_range = initial_range[end]\n",
    "s_num = length(initial_range)"
   ]
  },
  {
   "cell_type": "code",
   "execution_count": 7,
   "metadata": {},
   "outputs": [
    {
     "data": {
      "text/plain": [
       "20001"
      ]
     },
     "execution_count": 7,
     "metadata": {},
     "output_type": "execute_result"
    }
   ],
   "source": [
    "l_range = 200.0\n",
    "l_num = extend_num(s_range, l_range, s_num)"
   ]
  },
  {
   "cell_type": "code",
   "execution_count": 8,
   "metadata": {},
   "outputs": [
    {
     "data": {
      "text/plain": [
       "Parameter{Float64, Int64}(1, 500, [1], 20001, 200.0, 0.02, 0.0008, range(-200.0, stop=200.0, length=20001), 0.05, 10000)"
      ]
     },
     "execution_count": 8,
     "metadata": {},
     "output_type": "execute_result"
    }
   ],
   "source": [
    "P = Parameter{Float64,Int64}(space_N = l_num, scope = l_range, Δt = 0.05, step_t = 10000)"
   ]
  },
  {
   "cell_type": "code",
   "execution_count": 9,
   "metadata": {},
   "outputs": [
    {
     "data": {
      "text/plain": [
       "1×500 Matrix{Vector{ComplexF64}}:\n",
       " [0.0+0.0im, 0.0+0.0im, 0.0+0.0im, 0.0+0.0im, 0.0+0.0im, 0.0+0.0im, 0.0+0.0im, 0.0+0.0im, 0.0+0.0im, 0.0+0.0im  …  0.0+0.0im, 0.0+0.0im, 0.0+0.0im, 0.0+0.0im, 0.0+0.0im, 0.0+0.0im, 0.0+0.0im, 0.0+0.0im, 0.0+0.0im, 0.0+0.0im]  …  [0.0+0.0im, 0.0+0.0im, 0.0+0.0im, 0.0+0.0im, 0.0+0.0im, 0.0+0.0im, 0.0+0.0im, 0.0+0.0im, 0.0+0.0im, 0.0+0.0im  …  0.0+0.0im, 0.0+0.0im, 0.0+0.0im, 0.0+0.0im, 0.0+0.0im, 0.0+0.0im, 0.0+0.0im, 0.0+0.0im, 0.0+0.0im, 0.0+0.0im]"
      ]
     },
     "execution_count": 9,
     "metadata": {},
     "output_type": "execute_result"
    }
   ],
   "source": [
    "Raw_GuideWave = stitch_Matrix(Raw_Array, l_num)"
   ]
  },
  {
   "cell_type": "code",
   "execution_count": 10,
   "metadata": {},
   "outputs": [
    {
     "data": {
      "text/plain": [
       "0.6373433810433393 + 0.0im"
      ]
     },
     "execution_count": 10,
     "metadata": {},
     "output_type": "execute_result"
    }
   ],
   "source": [
    "Raw_GuideWave[1,1][10001]"
   ]
  },
  {
   "cell_type": "code",
   "execution_count": 11,
   "metadata": {},
   "outputs": [
    {
     "name": "stdout",
     "output_type": "stream",
     "text": [
      "  0.307370 seconds (363.05 k allocations: 210.660 MiB, 58.10% compilation time)\n",
      "elapsed time (ns): 307369500\n",
      "bytes allocated:   220892746\n",
      "pool allocs:       362490\n",
      "non-pool GC allocs:59\n",
      "malloc() calls:    501\n"
     ]
    },
    {
     "data": {
      "text/plain": [
       "Dynamics{Float64, Int64}([0.17525140136618608 0.6988857496446885 … 0.9731208167982772 -0.7971729618549642], Vector{ComplexF64}[[0.0 + 0.0im, 0.0 + 0.0im, 0.0 + 0.0im, 0.0 + 0.0im, 0.0 + 0.0im, 0.0 + 0.0im, 0.0 + 0.0im, 0.0 + 0.0im, 0.0 + 0.0im, 0.0 + 0.0im  …  0.0 + 0.0im, 0.0 + 0.0im, 0.0 + 0.0im, 0.0 + 0.0im, 0.0 + 0.0im, 0.0 + 0.0im, 0.0 + 0.0im, 0.0 + 0.0im, 0.0 + 0.0im, 0.0 + 0.0im] [0.0 + 0.0im, 0.0 + 0.0im, 0.0 + 0.0im, 0.0 + 0.0im, 0.0 + 0.0im, 0.0 + 0.0im, 0.0 + 0.0im, 0.0 + 0.0im, 0.0 + 0.0im, 0.0 + 0.0im  …  0.0 + 0.0im, 0.0 + 0.0im, 0.0 + 0.0im, 0.0 + 0.0im, 0.0 + 0.0im, 0.0 + 0.0im, 0.0 + 0.0im, 0.0 + 0.0im, 0.0 + 0.0im, 0.0 + 0.0im] … [0.0 + 0.0im, 0.0 + 0.0im, 0.0 + 0.0im, 0.0 + 0.0im, 0.0 + 0.0im, 0.0 + 0.0im, 0.0 + 0.0im, 0.0 + 0.0im, 0.0 + 0.0im, 0.0 + 0.0im  …  0.0 + 0.0im, 0.0 + 0.0im, 0.0 + 0.0im, 0.0 + 0.0im, 0.0 + 0.0im, 0.0 + 0.0im, 0.0 + 0.0im, 0.0 + 0.0im, 0.0 + 0.0im, 0.0 + 0.0im] [0.0 + 0.0im, 0.0 + 0.0im, 0.0 + 0.0im, 0.0 + 0.0im, 0.0 + 0.0im, 0.0 + 0.0im, 0.0 + 0.0im, 0.0 + 0.0im, 0.0 + 0.0im, 0.0 + 0.0im  …  0.0 + 0.0im, 0.0 + 0.0im, 0.0 + 0.0im, 0.0 + 0.0im, 0.0 + 0.0im, 0.0 + 0.0im, 0.0 + 0.0im, 0.0 + 0.0im, 0.0 + 0.0im, 0.0 + 0.0im]], [0.0, 0.0, 0.0, 0.0, 0.0, 0.0, 0.0, 0.0, 0.0, 0.0  …  0.0, 0.0, 0.0, 0.0, 0.0, 0.0, 0.0, 0.0, 0.0, 0.0], Union{Float64, ComplexF64}[0.0, 0.0, 0.0, 0.0, 0.0, 0.0, 0.0, 0.0, 0.0, 0.0  …  0.0, 0.0, 0.0, 0.0, 0.0, 0.0, 0.0, 0.0, 0.0, 0.0], [0.0 0.0 … 0.0 0.0; 0.0 0.0 … 0.0 0.0; … ; 0.0 0.0 … 0.0 0.0; 0.0 0.0 … 0.0 0.0;;;], [[0], [0], [0], [0], [0], [0], [0], [0], [0], [0]  …  [0], [0], [0], [0], [0], [0], [0], [0], [0], [0]], [1, 1, 1, 1, 1, 1, 1, 1, 1, 1  …  1, 1, 1, 1, 1, 1, 1, 1, 1, 1])"
      ]
     },
     "execution_count": 11,
     "metadata": {},
     "output_type": "execute_result"
    }
   ],
   "source": [
    "@timev Dy = Dynamics{Float64,Int64}(Trajectory = deepcopy(tr), Guide_Wave = deepcopy(Raw_GuideWave), Displace = zeros(Float64, (P.step_t + 1, Ensemble_num, Electron_num)),\n",
    "    Time = zeros(typeof(P.Δt), Ensemble_num))"
   ]
  },
  {
   "cell_type": "code",
   "execution_count": 14,
   "metadata": {},
   "outputs": [
    {
     "name": "stdout",
     "output_type": "stream",
     "text": [
      "  0.355494 seconds (99.99% gc time)\n",
      "elapsed time (ns): 355493500\n",
      "gc time (ns):      355455200\n",
      "GC pauses:         1\n",
      "full collections:  1\n"
     ]
    }
   ],
   "source": [
    "@timev begin \n",
    "    df = nothing\n",
    "    Raw_DuideWave = nothing\n",
    "    Raw_Array = nothing\n",
    "    tr = nothing\n",
    "    GC.gc()\n",
    "end"
   ]
  },
  {
   "cell_type": "code",
   "execution_count": 15,
   "metadata": {},
   "outputs": [
    {
     "data": {
      "text/plain": [
       "Dynamics{Float64, Int64}([0.17525140136618608 0.6988857496446885 … 0.9731208167982772 -0.7971729618549642], Vector{ComplexF64}[[0.0 + 0.0im, 0.0 + 0.0im, 0.0 + 0.0im, 0.0 + 0.0im, 0.0 + 0.0im, 0.0 + 0.0im, 0.0 + 0.0im, 0.0 + 0.0im, 0.0 + 0.0im, 0.0 + 0.0im  …  0.0 + 0.0im, 0.0 + 0.0im, 0.0 + 0.0im, 0.0 + 0.0im, 0.0 + 0.0im, 0.0 + 0.0im, 0.0 + 0.0im, 0.0 + 0.0im, 0.0 + 0.0im, 0.0 + 0.0im] [0.0 + 0.0im, 0.0 + 0.0im, 0.0 + 0.0im, 0.0 + 0.0im, 0.0 + 0.0im, 0.0 + 0.0im, 0.0 + 0.0im, 0.0 + 0.0im, 0.0 + 0.0im, 0.0 + 0.0im  …  0.0 + 0.0im, 0.0 + 0.0im, 0.0 + 0.0im, 0.0 + 0.0im, 0.0 + 0.0im, 0.0 + 0.0im, 0.0 + 0.0im, 0.0 + 0.0im, 0.0 + 0.0im, 0.0 + 0.0im] … [0.0 + 0.0im, 0.0 + 0.0im, 0.0 + 0.0im, 0.0 + 0.0im, 0.0 + 0.0im, 0.0 + 0.0im, 0.0 + 0.0im, 0.0 + 0.0im, 0.0 + 0.0im, 0.0 + 0.0im  …  0.0 + 0.0im, 0.0 + 0.0im, 0.0 + 0.0im, 0.0 + 0.0im, 0.0 + 0.0im, 0.0 + 0.0im, 0.0 + 0.0im, 0.0 + 0.0im, 0.0 + 0.0im, 0.0 + 0.0im] [0.0 + 0.0im, 0.0 + 0.0im, 0.0 + 0.0im, 0.0 + 0.0im, 0.0 + 0.0im, 0.0 + 0.0im, 0.0 + 0.0im, 0.0 + 0.0im, 0.0 + 0.0im, 0.0 + 0.0im  …  0.0 + 0.0im, 0.0 + 0.0im, 0.0 + 0.0im, 0.0 + 0.0im, 0.0 + 0.0im, 0.0 + 0.0im, 0.0 + 0.0im, 0.0 + 0.0im, 0.0 + 0.0im, 0.0 + 0.0im]], [0.0, 0.0, 0.0, 0.0, 0.0, 0.0, 0.0, 0.0, 0.0, 0.0  …  0.0, 0.0, 0.0, 0.0, 0.0, 0.0, 0.0, 0.0, 0.0, 0.0], Union{Float64, ComplexF64}[0.0, 0.0, 0.0, 0.0, 0.0, 0.0, 0.0, 0.0, 0.0, 0.0  …  0.0, 0.0, 0.0, 0.0, 0.0, 0.0, 0.0, 0.0, 0.0, 0.0], [0.0 0.0 … 0.0 0.0; 0.0 0.0 … 0.0 0.0; … ; 0.0 0.0 … 0.0 0.0; 0.0 0.0 … 0.0 0.0;;;], [[0], [0], [0], [0], [0], [0], [0], [0], [0], [0]  …  [0], [0], [0], [0], [0], [0], [0], [0], [0], [0]], [1, 1, 1, 1, 1, 1, 1, 1, 1, 1  …  1, 1, 1, 1, 1, 1, 1, 1, 1, 1])"
      ]
     },
     "execution_count": 15,
     "metadata": {},
     "output_type": "execute_result"
    }
   ],
   "source": [
    "Dy"
   ]
  },
  {
   "cell_type": "code",
   "execution_count": 16,
   "metadata": {},
   "outputs": [
    {
     "data": {
      "image/png": "[encoded data removed]",
      "text/plain": [
       "Figure(PyObject <Figure size 640x480 with 1 Axes>)"
      ]
     },
     "metadata": {},
     "output_type": "display_data"
    },
    {
     "name": "stderr",
     "output_type": "stream",
     "text": [
      "┌ Warning: `vendor()` is deprecated, use `BLAS.get_config()` and inspect the output instead\n",
      "│   caller = npyinitialize() at numpy.jl:67\n",
      "└ @ PyCall C:\\Users\\86187\\.julia\\packages\\PyCall\\3fwVL\\src\\numpy.jl:67\n"
     ]
    },
    {
     "data": {
      "text/plain": [
       "(-10.0, 10.0)"
      ]
     },
     "execution_count": 16,
     "metadata": {},
     "output_type": "execute_result"
    }
   ],
   "source": [
    "hist(Dy.Trajectory', 50, density = true);\n",
    "plot(P.sampling, abs2.(Dy.Guide_Wave[1]), color = \"red\")      #说明长度能够吻合上\n",
    "grid()\n",
    "xlim(-10, 10)"
   ]
  },
  {
   "cell_type": "code",
   "execution_count": 17,
   "metadata": {},
   "outputs": [
    {
     "data": {
      "text/plain": [
       "Parameter{Float64, Int64}(1, 500, [1], 20001, 200.0, 0.02, 0.0008, range(-200.0, stop=200.0, length=20001), 0.05, 10000)"
      ]
     },
     "execution_count": 17,
     "metadata": {},
     "output_type": "execute_result"
    }
   ],
   "source": [
    "P"
   ]
  },
  {
   "cell_type": "code",
   "execution_count": 15,
   "metadata": {},
   "outputs": [],
   "source": [
    "parallel_Evolution!(P, Dy)"
   ]
  }
 ],
 "metadata": {
  "kernelspec": {
   "display_name": "Julia 1.7.2",
   "language": "julia",
   "name": "julia-1.7"
  },
  "language_info": {
   "file_extension": ".jl",
   "mimetype": "application/julia",
   "name": "julia",
   "version": "1.7.2"
  }
 },
 "nbformat": 4,
 "nbformat_minor": 4
}
